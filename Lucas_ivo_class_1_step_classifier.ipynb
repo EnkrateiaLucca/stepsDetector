{
 "cells": [
  {
   "cell_type": "code",
   "execution_count": 3,
   "id": "14bc1236",
   "metadata": {
    "ExecuteTime": {
     "end_time": "2021-12-21T15:33:17.993479Z",
     "start_time": "2021-12-21T15:33:17.975716Z"
    }
   },
   "outputs": [],
   "source": [
    "# essas duas linhas e para te permitir atualizar codigo no vscode automaticamente e usar aqui no jupyter sem ter que\n",
    "# reimportar\n",
    "%load_ext autoreload\n",
    "%autoreload 2"
   ]
  },
  {
   "cell_type": "code",
   "execution_count": 4,
   "id": "a4caeb6d",
   "metadata": {
    "ExecuteTime": {
     "end_time": "2021-12-21T15:41:26.832106Z",
     "start_time": "2021-12-21T15:41:26.807485Z"
    }
   },
   "outputs": [],
   "source": [
    "from sklearn.linear_model import LogisticRegression\n",
    "from sklearn.ensemble import RandomForestClassifier\n",
    "from sklearn.metrics import accuracy_score\n",
    "import pandas as pd\n",
    "import matplotlib.pyplot as plt\n",
    "\n",
    "# Custom imports\n",
    "from models import *"
   ]
  },
  {
   "cell_type": "code",
   "execution_count": 18,
   "id": "c186edf7",
   "metadata": {
    "ExecuteTime": {
     "end_time": "2021-12-21T15:34:50.067951Z",
     "start_time": "2021-12-21T15:34:50.048721Z"
    }
   },
   "outputs": [
    {
     "ename": "SyntaxError",
     "evalue": "invalid syntax (2524530892.py, line 9)",
     "output_type": "error",
     "traceback": [
      "\u001b[0;36m  File \u001b[0;32m\"/tmp/ipykernel_64193/2524530892.py\"\u001b[0;36m, line \u001b[0;32m9\u001b[0m\n\u001b[0;31m    df_x_test.columns =[ \"AccZAxis\"]\u001b[0m\n\u001b[0m    ^\u001b[0m\n\u001b[0;31mSyntaxError\u001b[0m\u001b[0;31m:\u001b[0m invalid syntax\n"
     ]
    }
   ],
   "source": [
    "# carregando dados de treino\n",
    "df_x = pd.read_csv(\"./dataset/Training/TrainingAccZAxis.txt\", header=None)\n",
    "df_x.columns =[ \"AccZAxis\"]\n",
    "df_y = pd.read_csv(\"./dataset/Training/TrainingStepsOrNot.txt\", header=None)\n",
    "df_y.columns =[ \"Step\"]\n",
    "\n",
    "# carregando dados de teste\n",
    "df_x_test = pd.read_csv(\"./dataset/Testing/TestingAccZAxis.txt\", header=None\n",
    "df_x_test.columns =[ \"AccZAxis\"]\n",
    "df_y_test = pd.read_csv(\"./dataset/Testing/TestingStepsOrNot.txt\", header=None)\n",
    "df_y_test.columns =[ \"Step\"]"
   ]
  },
  {
   "cell_type": "code",
   "execution_count": 26,
   "id": "cec0523f",
   "metadata": {},
   "outputs": [],
   "source": [
    "import numpy as np\n",
    "# carregando dados de treino\n",
    "df_x = np.loadtxt(\"./dataset/TRAINING_matrixX.txt\", delimiter=\" \")\n",
    "df_y = np.loadtxt(\"./dataset/TRAINING_matrixy.txt\", delimiter=\" \")\n",
    "\n",
    "\n",
    "# # carregando dados de teste\n",
    "# df_x_test = pd.read_csv(\"./dataset/Testing/TRAINING_matrixy.txt\", header=None)\n",
    "# df_x_test.columns =[ \"AccZAxis\"]\n",
    "# df_y_test = pd.read_csv(\"./dataset/Testing/TestingStepsOrNot.txt\", header=None)\n",
    "# df_y_test.columns =[ \"Step\"]"
   ]
  },
  {
   "cell_type": "code",
   "execution_count": 27,
   "id": "2b18b5c4",
   "metadata": {},
   "outputs": [
    {
     "name": "stdout",
     "output_type": "stream",
     "text": [
      "[[-0.7493545  -0.783301   -1.641174    0.02528447 -0.03394645 -0.8578734 ]\n",
      " [-0.783301   -1.641174   -0.890356   -0.03394645 -0.8578734   0.7508184 ]\n",
      " [-1.641174   -0.890356   -0.8476255  -0.8578734   0.7508184   0.04273051]\n",
      " ...\n",
      " [-0.824415   -0.8411595  -0.682224   -0.245708   -0.01674449  0.1589355 ]\n",
      " [-0.890356   -0.8476255  -0.796233    0.7508184   0.04273051  0.0513925 ]\n",
      " [-0.7403265  -0.705526   -0.6143615  -0.04285246  0.03480047  0.09116447]]\n",
      "(6000, 6)\n",
      "[1. 1. 1. ... 0. 0. 0.]\n",
      "(6000,)\n"
     ]
    }
   ],
   "source": [
    "print(df_x)\n",
    "print(df_x.shape)\n",
    "print(df_y)\n",
    "print(df_y.shape)"
   ]
  },
  {
   "cell_type": "code",
   "execution_count": 14,
   "id": "bb2df5dd",
   "metadata": {
    "ExecuteTime": {
     "end_time": "2021-12-21T15:37:01.975161Z",
     "start_time": "2021-12-21T15:37:01.747984Z"
    }
   },
   "outputs": [
    {
     "data": {
      "image/png": "[encoded data removed]",
      "text/plain": [
       "<Figure size 432x288 with 1 Axes>"
      ]
     },
     "metadata": {
      "needs_background": "light"
     },
     "output_type": "display_data"
    }
   ],
   "source": [
    "# visualizando uma distribuicao de classes nos dados de treino e teste\n",
    "df_y.hist()\n",
    "plt.title(\"Classes Treino\")\n",
    "plt.show()\n",
    "# df_y_test.hist()\n",
    "# plt.title(\"Classes Teste\")\n",
    "# plt.show()"
   ]
  },
  {
   "cell_type": "code",
   "execution_count": 15,
   "id": "85457245",
   "metadata": {
    "ExecuteTime": {
     "end_time": "2021-12-21T15:37:57.489255Z",
     "start_time": "2021-12-21T15:37:57.455011Z"
    }
   },
   "outputs": [
    {
     "ename": "TypeError",
     "evalue": "unsupported operand type(s) for -: 'str' and 'str'",
     "output_type": "error",
     "traceback": [
      "\u001b[0;31m---------------------------------------------------------------------------\u001b[0m",
      "\u001b[0;31mTypeError\u001b[0m                                 Traceback (most recent call last)",
      "\u001b[0;32m/tmp/ipykernel_64193/1647639675.py\u001b[0m in \u001b[0;36m<module>\u001b[0;34m\u001b[0m\n\u001b[1;32m      3\u001b[0m \u001b[0mX_train\u001b[0m \u001b[0;34m=\u001b[0m \u001b[0mX_train\u001b[0m\u001b[0;34m.\u001b[0m\u001b[0mreshape\u001b[0m\u001b[0;34m(\u001b[0m\u001b[0;34m-\u001b[0m\u001b[0;36m1\u001b[0m\u001b[0;34m,\u001b[0m\u001b[0;36m1\u001b[0m\u001b[0;34m,\u001b[0m\u001b[0;36m6\u001b[0m\u001b[0;34m)\u001b[0m\u001b[0;34m\u001b[0m\u001b[0;34m\u001b[0m\u001b[0m\n\u001b[1;32m      4\u001b[0m \u001b[0;31m# scale training data to [-1,1]\u001b[0m\u001b[0;34m\u001b[0m\u001b[0;34m\u001b[0m\u001b[0;34m\u001b[0m\u001b[0m\n\u001b[0;32m----> 5\u001b[0;31m \u001b[0mX_train\u001b[0m \u001b[0;34m=\u001b[0m \u001b[0;34m(\u001b[0m\u001b[0mX_train\u001b[0m \u001b[0;34m-\u001b[0m \u001b[0mX_train\u001b[0m\u001b[0;34m.\u001b[0m\u001b[0mmin\u001b[0m\u001b[0;34m(\u001b[0m\u001b[0;34m)\u001b[0m\u001b[0;34m)\u001b[0m \u001b[0;34m/\u001b[0m \u001b[0;34m(\u001b[0m\u001b[0mX_train\u001b[0m\u001b[0;34m.\u001b[0m\u001b[0mmax\u001b[0m\u001b[0;34m(\u001b[0m\u001b[0;34m)\u001b[0m \u001b[0;34m-\u001b[0m \u001b[0mX_train\u001b[0m\u001b[0;34m.\u001b[0m\u001b[0mmin\u001b[0m\u001b[0;34m(\u001b[0m\u001b[0;34m)\u001b[0m\u001b[0;34m)\u001b[0m\u001b[0;34m\u001b[0m\u001b[0;34m\u001b[0m\u001b[0m\n\u001b[0m\u001b[1;32m      6\u001b[0m \u001b[0;34m\u001b[0m\u001b[0m\n\u001b[1;32m      7\u001b[0m \u001b[0;31m# X_test, y_test = df_x_test.values.ravel(), df_y_test.values.ravel()\u001b[0m\u001b[0;34m\u001b[0m\u001b[0;34m\u001b[0m\u001b[0;34m\u001b[0m\u001b[0m\n",
      "\u001b[0;31mTypeError\u001b[0m: unsupported operand type(s) for -: 'str' and 'str'"
     ]
    }
   ],
   "source": [
    "# Preprocessing 1\n",
    "# preprocessing basico dos dados (acertando a shape para fazer fit nos modelos)\n",
    "# X_train, y_train = df_x.values.ravel(), df_y.values.ravel()\n",
    "# X_train = X_train.reshape(-1,1,6)\n",
    "# # scale training data to [-1,1]\n",
    "# X_train = (X_train - X_train.min()) / (X_train.max() - X_train.min())\n",
    "\n",
    "# X_test, y_test = df_x_test.values.ravel(), df_y_test.values.ravel()\n",
    "# X_test = X_test.reshape(-1,1,1)\n",
    "# # scale testing data to [-1,1]\n",
    "# X_test = (X_test - X_test.min()) / (X_test.max() - X_test.min())\n",
    "\n",
    "# Preprocessing 2 with window size\n"
   ]
  },
  {
   "cell_type": "code",
   "execution_count": 16,
   "id": "e6a41295",
   "metadata": {},
   "outputs": [
    {
     "data": {
      "text/plain": [
       "array([[['-0.7493545 -0.783301 -1.641174 0.02528447 -0.03394645 -0.8578734',\n",
       "         '-0.783301 -1.641174 -0.890356 -0.03394645 -0.8578734 0.7508184',\n",
       "         '-1.641174 -0.890356 -0.8476255 -0.8578734 0.7508184 0.04273051',\n",
       "         '-0.6177775 -0.8773935 -1.062346 0.005246043 -0.259616 -0.184952',\n",
       "         '-0.8773935 -1.062346 -0.9705405 -0.259616 -0.184952 0.09180504',\n",
       "         '-1.062346 -0.9705405 -0.6171675 -0.184952 0.09180504 0.353373']],\n",
       "\n",
       "       [['-0.71309 -0.8338395 -0.940986 0.0324825 -0.1207495 -0.1071464',\n",
       "         '-0.8338395 -0.940986 -1.269471 -0.1207495 -0.1071464 -0.328485',\n",
       "         '-0.940986 -1.269471 -0.795867 -0.1071464 -0.328485 0.473604',\n",
       "         '-0.8377435 -1.033767 -1.714527 -0.1683295 -0.1960235 -0.68076',\n",
       "         '-1.033767 -1.714527 -0.5073065 -0.1960235 -0.68076 1.207221',\n",
       "         '-1.714527 -0.5073065 -0.7434985 -0.68076 1.207221 -0.236192']],\n",
       "\n",
       "       [['-0.790865 -1.028643 -1.489803 -0.01671404 -0.237778 -0.4611599',\n",
       "         '-1.028643 -1.489803 -0.7642385 -0.237778 -0.4611599 0.7255644',\n",
       "         '-1.489803 -0.7642385 -0.8356695 -0.4611599 0.7255644 -0.07143098',\n",
       "         '-0.673684 -1.337821 -1.457564 -0.08448499 -0.6641375 -0.119743',\n",
       "         '-1.337821 -1.457564 -0.899994 -0.6641375 -0.119743 0.5575705',\n",
       "         '-1.457564 -0.899994 -0.6471795 -0.119743 0.5575705 0.2528145']],\n",
       "\n",
       "       ...,\n",
       "\n",
       "       [['-0.8446975 -0.7250765 -0.7227585 -0.0548085 0.119621 0.002318025',\n",
       "         '-1.014735 -0.800747 -0.7428885 0.255834 0.2139879 0.05785853',\n",
       "         '-0.6300995 -0.7304445 -0.8405495 0.07152253 -0.100345 -0.110105',\n",
       "         '-1.141066 -0.911584 -0.796965 -0.357277 0.2294819 0.114619',\n",
       "         '-0.66368 -0.7642385 -1.048773 0.07920849 -0.1005585 -0.2845345',\n",
       "         '-1.308908 -0.788059 -0.6171675 -0.5208485 0.5208485 0.1708915']],\n",
       "\n",
       "       [['-0.804285 -0.7333725 -0.799161 0.2551325 0.07091248 -0.06578851',\n",
       "         '-0.791353 -0.806359 -0.7487445 0.03647798 -0.01500601 0.05761451',\n",
       "         '-0.790987 -0.709186 -0.7215385 -0.0235765 0.081801 -0.01235247',\n",
       "         '-0.8357915 -0.9629765 -0.7332505 0.5230445 -0.127185 0.229726',\n",
       "         '-0.6387615 -0.7624085 -0.915488 0.02735847 -0.123647 -0.1530795',\n",
       "         '-0.8595815 -0.6519375 -0.7718025 -0.210206 0.207644 -0.119865']],\n",
       "\n",
       "       [['-0.6044795 -0.666608 -0.659044 0.145851 -0.06212848 0.007563949',\n",
       "         '-0.929396 -0.8866655 -0.7500865 -0.033306 0.04273057 0.136579',\n",
       "         '-0.8538474 -1.110657 -0.9921345 -0.07530445 -0.25681 0.1185229',\n",
       "         '-0.824415 -0.8411595 -0.682224 -0.245708 -0.01674449 0.1589355',\n",
       "         '-0.890356 -0.8476255 -0.796233 0.7508184 0.04273051 0.0513925',\n",
       "         '-0.7403265 -0.705526 -0.6143615 -0.04285246 0.03480047 0.09116447']]],\n",
       "      dtype=object)"
      ]
     },
     "execution_count": 16,
     "metadata": {},
     "output_type": "execute_result"
    }
   ],
   "source": [
    "X_train = df_x.reshape(-1,1,6)\n",
    "# scale training data to [-1,1]\n",
    "X_train = (X_train - X_train.min()) / (X_train.max() - X_train.min())"
   ]
  },
  {
   "cell_type": "code",
   "execution_count": 32,
   "id": "44d2942e",
   "metadata": {},
   "outputs": [
    {
     "data": {
      "image/png": "[encoded data removed]",
      "text/plain": [
       "<Figure size 432x288 with 1 Axes>"
      ]
     },
     "metadata": {
      "needs_background": "light"
     },
     "output_type": "display_data"
    }
   ],
   "source": [
    "plt.plot(X_train[:,0,0])\n",
    "plt.show()"
   ]
  },
  {
   "cell_type": "code",
   "execution_count": 9,
   "id": "a043b601",
   "metadata": {
    "ExecuteTime": {
     "end_time": "2021-12-21T15:41:31.123231Z",
     "start_time": "2021-12-21T15:41:30.477088Z"
    }
   },
   "outputs": [
    {
     "name": "stderr",
     "output_type": "stream",
     "text": [
      "2021-12-27 14:48:24.906873: I tensorflow/compiler/mlir/mlir_graph_optimization_pass.cc:116] None of the MLIR optimization passes are enabled (registered 2)\n",
      "2021-12-27 14:48:24.925416: I tensorflow/core/platform/profile_utils/cpu_utils.cc:112] CPU Frequency: 2599990000 Hz\n"
     ]
    },
    {
     "name": "stdout",
     "output_type": "stream",
     "text": [
      "Epoch 1/5\n",
      "127/127 [==============================] - 1s 2ms/step - loss: 0.6597 - accuracy: 0.6292\n",
      "Epoch 2/5\n",
      "127/127 [==============================] - 0s 2ms/step - loss: 0.5991 - accuracy: 0.6469\n",
      "Epoch 3/5\n",
      "127/127 [==============================] - 0s 2ms/step - loss: 0.4802 - accuracy: 0.8012\n",
      "Epoch 4/5\n",
      "127/127 [==============================] - 0s 2ms/step - loss: 0.4086 - accuracy: 0.8327\n",
      "Epoch 5/5\n",
      "127/127 [==============================] - 0s 2ms/step - loss: 0.4043 - accuracy: 0.8343\n"
     ]
    },
    {
     "data": {
      "text/plain": [
       "<tensorflow.python.keras.callbacks.History at 0x7fa4f83c60a0>"
      ]
     },
     "execution_count": 9,
     "metadata": {},
     "output_type": "execute_result"
    }
   ],
   "source": [
    "# inicializando os modelos\n",
    "lr = LogisticRegression()\n",
    "rf = RandomForestClassifier()\n",
    "lstm = lstm_model(n_timesteps=1, n_features=1, n_outputs=1)\n",
    "\n",
    "# fazendo fit do modelo random forest\n",
    "# referencia para entender random forest classifiers: https://towardsdatascience.com/understanding-random-forest-58381e0602d2\n",
    "# rf.fit(X_train, y_train)\n",
    "# lr.fit(X_train,y_train)\n",
    "epochs = 5\n",
    "batch_size = 64\n",
    "lstm.fit(X_train, y_train, epochs=epochs,batch_size=batch_size, verbose=1)"
   ]
  },
  {
   "cell_type": "code",
   "execution_count": 53,
   "id": "cc90d090",
   "metadata": {},
   "outputs": [
    {
     "name": "stdout",
     "output_type": "stream",
     "text": [
      "Model: \"model_3\"\n",
      "__________________________________________________________________________________________________\n",
      "Layer (type)                    Output Shape         Param #     Connected to                     \n",
      "==================================================================================================\n",
      "input_8 (InputLayer)            [(None, 1, 1)]       0                                            \n",
      "__________________________________________________________________________________________________\n",
      "layer_normalization_40 (LayerNo (None, 1, 1)         2           input_8[0][0]                    \n",
      "__________________________________________________________________________________________________\n",
      "multi_head_attention_20 (MultiH (None, 1, 1)         7169        layer_normalization_40[0][0]     \n",
      "                                                                 layer_normalization_40[0][0]     \n",
      "__________________________________________________________________________________________________\n",
      "dropout_57 (Dropout)            (None, 1, 1)         0           multi_head_attention_20[0][0]    \n",
      "__________________________________________________________________________________________________\n",
      "tf.__operators__.add_40 (TFOpLa (None, 1, 1)         0           dropout_57[0][0]                 \n",
      "                                                                 input_8[0][0]                    \n",
      "__________________________________________________________________________________________________\n",
      "layer_normalization_41 (LayerNo (None, 1, 1)         2           tf.__operators__.add_40[0][0]    \n",
      "__________________________________________________________________________________________________\n",
      "conv1d_40 (Conv1D)              (None, 1, 4)         8           layer_normalization_41[0][0]     \n",
      "__________________________________________________________________________________________________\n",
      "dropout_58 (Dropout)            (None, 1, 4)         0           conv1d_40[0][0]                  \n",
      "__________________________________________________________________________________________________\n",
      "conv1d_41 (Conv1D)              (None, 1, 1)         5           dropout_58[0][0]                 \n",
      "__________________________________________________________________________________________________\n",
      "tf.__operators__.add_41 (TFOpLa (None, 1, 1)         0           conv1d_41[0][0]                  \n",
      "                                                                 tf.__operators__.add_40[0][0]    \n",
      "__________________________________________________________________________________________________\n",
      "layer_normalization_42 (LayerNo (None, 1, 1)         2           tf.__operators__.add_41[0][0]    \n",
      "__________________________________________________________________________________________________\n",
      "multi_head_attention_21 (MultiH (None, 1, 1)         7169        layer_normalization_42[0][0]     \n",
      "                                                                 layer_normalization_42[0][0]     \n",
      "__________________________________________________________________________________________________\n",
      "dropout_59 (Dropout)            (None, 1, 1)         0           multi_head_attention_21[0][0]    \n",
      "__________________________________________________________________________________________________\n",
      "tf.__operators__.add_42 (TFOpLa (None, 1, 1)         0           dropout_59[0][0]                 \n",
      "                                                                 tf.__operators__.add_41[0][0]    \n",
      "__________________________________________________________________________________________________\n",
      "layer_normalization_43 (LayerNo (None, 1, 1)         2           tf.__operators__.add_42[0][0]    \n",
      "__________________________________________________________________________________________________\n",
      "conv1d_42 (Conv1D)              (None, 1, 4)         8           layer_normalization_43[0][0]     \n",
      "__________________________________________________________________________________________________\n",
      "dropout_60 (Dropout)            (None, 1, 4)         0           conv1d_42[0][0]                  \n",
      "__________________________________________________________________________________________________\n",
      "conv1d_43 (Conv1D)              (None, 1, 1)         5           dropout_60[0][0]                 \n",
      "__________________________________________________________________________________________________\n",
      "tf.__operators__.add_43 (TFOpLa (None, 1, 1)         0           conv1d_43[0][0]                  \n",
      "                                                                 tf.__operators__.add_42[0][0]    \n",
      "__________________________________________________________________________________________________\n",
      "layer_normalization_44 (LayerNo (None, 1, 1)         2           tf.__operators__.add_43[0][0]    \n",
      "__________________________________________________________________________________________________\n",
      "multi_head_attention_22 (MultiH (None, 1, 1)         7169        layer_normalization_44[0][0]     \n",
      "                                                                 layer_normalization_44[0][0]     \n",
      "__________________________________________________________________________________________________\n",
      "dropout_61 (Dropout)            (None, 1, 1)         0           multi_head_attention_22[0][0]    \n",
      "__________________________________________________________________________________________________\n",
      "tf.__operators__.add_44 (TFOpLa (None, 1, 1)         0           dropout_61[0][0]                 \n",
      "                                                                 tf.__operators__.add_43[0][0]    \n",
      "__________________________________________________________________________________________________\n",
      "layer_normalization_45 (LayerNo (None, 1, 1)         2           tf.__operators__.add_44[0][0]    \n",
      "__________________________________________________________________________________________________\n",
      "conv1d_44 (Conv1D)              (None, 1, 4)         8           layer_normalization_45[0][0]     \n",
      "__________________________________________________________________________________________________\n",
      "dropout_62 (Dropout)            (None, 1, 4)         0           conv1d_44[0][0]                  \n",
      "__________________________________________________________________________________________________\n",
      "conv1d_45 (Conv1D)              (None, 1, 1)         5           dropout_62[0][0]                 \n",
      "__________________________________________________________________________________________________\n",
      "tf.__operators__.add_45 (TFOpLa (None, 1, 1)         0           conv1d_45[0][0]                  \n",
      "                                                                 tf.__operators__.add_44[0][0]    \n",
      "__________________________________________________________________________________________________\n",
      "layer_normalization_46 (LayerNo (None, 1, 1)         2           tf.__operators__.add_45[0][0]    \n",
      "__________________________________________________________________________________________________\n",
      "multi_head_attention_23 (MultiH (None, 1, 1)         7169        layer_normalization_46[0][0]     \n",
      "                                                                 layer_normalization_46[0][0]     \n",
      "__________________________________________________________________________________________________\n",
      "dropout_63 (Dropout)            (None, 1, 1)         0           multi_head_attention_23[0][0]    \n",
      "__________________________________________________________________________________________________\n",
      "tf.__operators__.add_46 (TFOpLa (None, 1, 1)         0           dropout_63[0][0]                 \n",
      "                                                                 tf.__operators__.add_45[0][0]    \n",
      "__________________________________________________________________________________________________\n",
      "layer_normalization_47 (LayerNo (None, 1, 1)         2           tf.__operators__.add_46[0][0]    \n",
      "__________________________________________________________________________________________________\n",
      "conv1d_46 (Conv1D)              (None, 1, 4)         8           layer_normalization_47[0][0]     \n",
      "__________________________________________________________________________________________________\n",
      "dropout_64 (Dropout)            (None, 1, 4)         0           conv1d_46[0][0]                  \n",
      "__________________________________________________________________________________________________\n",
      "conv1d_47 (Conv1D)              (None, 1, 1)         5           dropout_64[0][0]                 \n",
      "__________________________________________________________________________________________________\n",
      "tf.__operators__.add_47 (TFOpLa (None, 1, 1)         0           conv1d_47[0][0]                  \n",
      "                                                                 tf.__operators__.add_46[0][0]    \n",
      "__________________________________________________________________________________________________\n",
      "global_average_pooling1d_5 (Glo (None, 1)            0           tf.__operators__.add_47[0][0]    \n",
      "__________________________________________________________________________________________________\n",
      "dense_32 (Dense)                (None, 128)          256         global_average_pooling1d_5[0][0] \n",
      "__________________________________________________________________________________________________\n",
      "dropout_65 (Dropout)            (None, 128)          0           dense_32[0][0]                   \n",
      "__________________________________________________________________________________________________\n",
      "dense_33 (Dense)                (None, 1)            129         dropout_65[0][0]                 \n",
      "==================================================================================================\n",
      "Total params: 29,129\n",
      "Trainable params: 29,129\n",
      "Non-trainable params: 0\n",
      "__________________________________________________________________________________________________\n",
      "Epoch 1/500\n",
      "102/102 [==============================] - 3s 10ms/step - loss: 0.6921 - accuracy: 0.5191 - val_loss: 0.6728 - val_accuracy: 0.7438\n",
      "Epoch 2/500\n",
      "102/102 [==============================] - 1s 9ms/step - loss: 0.6683 - accuracy: 0.7359 - val_loss: 0.6568 - val_accuracy: 0.6938\n",
      "Epoch 3/500\n",
      "102/102 [==============================] - 1s 8ms/step - loss: 0.6528 - accuracy: 0.7225 - val_loss: 0.6386 - val_accuracy: 0.7185\n",
      "Epoch 4/500\n",
      "102/102 [==============================] - 1s 8ms/step - loss: 0.6385 - accuracy: 0.7096 - val_loss: 0.6274 - val_accuracy: 0.6858\n",
      "Epoch 5/500\n",
      "102/102 [==============================] - 1s 9ms/step - loss: 0.6227 - accuracy: 0.7205 - val_loss: 0.6134 - val_accuracy: 0.6920\n",
      "Epoch 6/500\n",
      "102/102 [==============================] - 1s 8ms/step - loss: 0.6138 - accuracy: 0.7093 - val_loss: 0.6010 - val_accuracy: 0.7056\n",
      "Epoch 7/500\n",
      "102/102 [==============================] - 1s 8ms/step - loss: 0.6022 - accuracy: 0.7254 - val_loss: 0.5912 - val_accuracy: 0.7068\n",
      "Epoch 8/500\n",
      "102/102 [==============================] - 1s 8ms/step - loss: 0.5896 - accuracy: 0.7254 - val_loss: 0.5866 - val_accuracy: 0.6901\n",
      "Epoch 9/500\n",
      "102/102 [==============================] - 1s 9ms/step - loss: 0.5860 - accuracy: 0.7089 - val_loss: 0.5736 - val_accuracy: 0.7259\n",
      "Epoch 10/500\n",
      "102/102 [==============================] - 1s 9ms/step - loss: 0.5721 - accuracy: 0.7491 - val_loss: 0.5662 - val_accuracy: 0.7278\n",
      "Epoch 11/500\n",
      "102/102 [==============================] - 1s 9ms/step - loss: 0.5619 - accuracy: 0.7364 - val_loss: 0.5607 - val_accuracy: 0.7210\n",
      "Epoch 12/500\n",
      "102/102 [==============================] - 1s 8ms/step - loss: 0.5538 - accuracy: 0.7475 - val_loss: 0.5518 - val_accuracy: 0.7426\n",
      "Epoch 13/500\n",
      "102/102 [==============================] - 1s 9ms/step - loss: 0.5452 - accuracy: 0.7504 - val_loss: 0.5448 - val_accuracy: 0.7623\n",
      "Epoch 14/500\n",
      "102/102 [==============================] - 1s 9ms/step - loss: 0.5416 - accuracy: 0.7669 - val_loss: 0.5382 - val_accuracy: 0.7611\n",
      "Epoch 15/500\n",
      "102/102 [==============================] - 1s 9ms/step - loss: 0.5346 - accuracy: 0.7645 - val_loss: 0.5326 - val_accuracy: 0.7586\n",
      "Epoch 16/500\n",
      "102/102 [==============================] - 1s 9ms/step - loss: 0.5291 - accuracy: 0.7742 - val_loss: 0.5271 - val_accuracy: 0.7599\n",
      "Epoch 17/500\n",
      "102/102 [==============================] - 1s 10ms/step - loss: 0.5284 - accuracy: 0.7740 - val_loss: 0.5225 - val_accuracy: 0.7599\n",
      "Epoch 18/500\n",
      "102/102 [==============================] - 1s 11ms/step - loss: 0.5043 - accuracy: 0.7815 - val_loss: 0.5146 - val_accuracy: 0.7864\n",
      "Epoch 19/500\n",
      "102/102 [==============================] - 1s 9ms/step - loss: 0.5045 - accuracy: 0.7985 - val_loss: 0.5095 - val_accuracy: 0.7716\n",
      "Epoch 20/500\n",
      "102/102 [==============================] - 1s 10ms/step - loss: 0.5004 - accuracy: 0.7909 - val_loss: 0.5088 - val_accuracy: 0.7654\n",
      "Epoch 21/500\n",
      "102/102 [==============================] - 1s 11ms/step - loss: 0.4913 - accuracy: 0.7939 - val_loss: 0.5002 - val_accuracy: 0.7741\n",
      "Epoch 22/500\n",
      "102/102 [==============================] - 1s 8ms/step - loss: 0.4795 - accuracy: 0.8013 - val_loss: 0.4938 - val_accuracy: 0.7926\n",
      "Epoch 23/500\n",
      "102/102 [==============================] - 1s 8ms/step - loss: 0.4787 - accuracy: 0.8031 - val_loss: 0.4902 - val_accuracy: 0.7864\n",
      "Epoch 24/500\n",
      "102/102 [==============================] - 1s 8ms/step - loss: 0.4741 - accuracy: 0.8059 - val_loss: 0.4850 - val_accuracy: 0.7932\n",
      "Epoch 25/500\n",
      "102/102 [==============================] - 1s 8ms/step - loss: 0.4674 - accuracy: 0.8097 - val_loss: 0.4811 - val_accuracy: 0.7920\n",
      "Epoch 26/500\n",
      "102/102 [==============================] - 1s 8ms/step - loss: 0.4651 - accuracy: 0.8142 - val_loss: 0.4774 - val_accuracy: 0.7951\n",
      "Epoch 27/500\n",
      "102/102 [==============================] - 1s 8ms/step - loss: 0.4586 - accuracy: 0.8184 - val_loss: 0.4752 - val_accuracy: 0.7877\n",
      "Epoch 28/500\n",
      "102/102 [==============================] - 1s 8ms/step - loss: 0.4492 - accuracy: 0.8261 - val_loss: 0.4752 - val_accuracy: 0.7864\n",
      "Epoch 29/500\n",
      "102/102 [==============================] - 1s 8ms/step - loss: 0.4443 - accuracy: 0.8243 - val_loss: 0.4690 - val_accuracy: 0.7920\n",
      "Epoch 30/500\n",
      "102/102 [==============================] - 1s 9ms/step - loss: 0.4526 - accuracy: 0.8168 - val_loss: 0.4663 - val_accuracy: 0.7938\n",
      "Epoch 31/500\n",
      "102/102 [==============================] - 1s 8ms/step - loss: 0.4436 - accuracy: 0.8216 - val_loss: 0.4643 - val_accuracy: 0.7938\n",
      "Epoch 32/500\n",
      "102/102 [==============================] - 1s 8ms/step - loss: 0.4265 - accuracy: 0.8273 - val_loss: 0.4625 - val_accuracy: 0.7938\n",
      "Epoch 33/500\n",
      "102/102 [==============================] - 1s 8ms/step - loss: 0.4389 - accuracy: 0.8280 - val_loss: 0.4614 - val_accuracy: 0.7926\n",
      "Epoch 34/500\n",
      "102/102 [==============================] - 1s 8ms/step - loss: 0.4299 - accuracy: 0.8304 - val_loss: 0.4566 - val_accuracy: 0.7981\n",
      "Epoch 35/500\n",
      "102/102 [==============================] - 1s 8ms/step - loss: 0.4193 - accuracy: 0.8376 - val_loss: 0.4547 - val_accuracy: 0.7994\n",
      "Epoch 36/500\n",
      "102/102 [==============================] - 1s 8ms/step - loss: 0.4233 - accuracy: 0.8290 - val_loss: 0.4520 - val_accuracy: 0.8037\n",
      "Epoch 37/500\n",
      "102/102 [==============================] - 1s 8ms/step - loss: 0.4254 - accuracy: 0.8366 - val_loss: 0.4491 - val_accuracy: 0.8049\n",
      "Epoch 38/500\n",
      "102/102 [==============================] - 1s 8ms/step - loss: 0.4237 - accuracy: 0.8303 - val_loss: 0.4523 - val_accuracy: 0.7988\n",
      "Epoch 39/500\n",
      "102/102 [==============================] - 1s 8ms/step - loss: 0.4237 - accuracy: 0.8305 - val_loss: 0.4498 - val_accuracy: 0.8000\n",
      "Epoch 40/500\n",
      "102/102 [==============================] - 1s 8ms/step - loss: 0.4138 - accuracy: 0.8300 - val_loss: 0.4500 - val_accuracy: 0.7981\n",
      "Epoch 41/500\n",
      "102/102 [==============================] - 1s 8ms/step - loss: 0.4139 - accuracy: 0.8336 - val_loss: 0.4426 - val_accuracy: 0.8099\n",
      "Epoch 42/500\n",
      "102/102 [==============================] - 1s 8ms/step - loss: 0.4161 - accuracy: 0.8336 - val_loss: 0.4499 - val_accuracy: 0.7988\n",
      "Epoch 43/500\n",
      "102/102 [==============================] - 1s 9ms/step - loss: 0.3999 - accuracy: 0.8410 - val_loss: 0.4445 - val_accuracy: 0.8056\n",
      "Epoch 44/500\n",
      "102/102 [==============================] - 1s 9ms/step - loss: 0.4131 - accuracy: 0.8304 - val_loss: 0.4408 - val_accuracy: 0.8074\n",
      "Epoch 45/500\n",
      "102/102 [==============================] - 1s 11ms/step - loss: 0.4079 - accuracy: 0.8408 - val_loss: 0.4428 - val_accuracy: 0.8056\n",
      "Epoch 46/500\n",
      "102/102 [==============================] - 1s 8ms/step - loss: 0.4075 - accuracy: 0.8378 - val_loss: 0.4411 - val_accuracy: 0.8049\n",
      "Epoch 47/500\n",
      "102/102 [==============================] - 1s 8ms/step - loss: 0.4018 - accuracy: 0.8370 - val_loss: 0.4372 - val_accuracy: 0.8086\n",
      "Epoch 48/500\n",
      "102/102 [==============================] - 1s 9ms/step - loss: 0.3954 - accuracy: 0.8416 - val_loss: 0.4370 - val_accuracy: 0.8099\n",
      "Epoch 49/500\n",
      "102/102 [==============================] - 1s 8ms/step - loss: 0.3948 - accuracy: 0.8367 - val_loss: 0.4391 - val_accuracy: 0.8074\n",
      "Epoch 50/500\n",
      "102/102 [==============================] - 1s 9ms/step - loss: 0.3947 - accuracy: 0.8463 - val_loss: 0.4375 - val_accuracy: 0.8086\n",
      "Epoch 51/500\n",
      "102/102 [==============================] - 1s 8ms/step - loss: 0.3937 - accuracy: 0.8443 - val_loss: 0.4398 - val_accuracy: 0.8056\n",
      "Epoch 52/500\n",
      "102/102 [==============================] - 1s 8ms/step - loss: 0.3857 - accuracy: 0.8495 - val_loss: 0.4340 - val_accuracy: 0.8105\n",
      "Epoch 53/500\n",
      "102/102 [==============================] - 1s 8ms/step - loss: 0.4007 - accuracy: 0.8400 - val_loss: 0.4377 - val_accuracy: 0.8074\n",
      "Epoch 54/500\n",
      "102/102 [==============================] - 1s 8ms/step - loss: 0.4063 - accuracy: 0.8348 - val_loss: 0.4410 - val_accuracy: 0.8056\n",
      "Epoch 55/500\n",
      "102/102 [==============================] - 1s 8ms/step - loss: 0.3956 - accuracy: 0.8407 - val_loss: 0.4382 - val_accuracy: 0.8074\n",
      "Epoch 56/500\n",
      "102/102 [==============================] - 1s 8ms/step - loss: 0.3873 - accuracy: 0.8454 - val_loss: 0.4343 - val_accuracy: 0.8086\n",
      "Epoch 57/500\n",
      "102/102 [==============================] - 1s 8ms/step - loss: 0.3943 - accuracy: 0.8452 - val_loss: 0.4390 - val_accuracy: 0.8074\n",
      "Epoch 58/500\n",
      "102/102 [==============================] - 1s 8ms/step - loss: 0.3930 - accuracy: 0.8420 - val_loss: 0.4362 - val_accuracy: 0.8093\n",
      "Epoch 59/500\n",
      "102/102 [==============================] - 1s 8ms/step - loss: 0.3913 - accuracy: 0.8399 - val_loss: 0.4347 - val_accuracy: 0.8086\n",
      "Epoch 60/500\n",
      "102/102 [==============================] - 1s 8ms/step - loss: 0.3787 - accuracy: 0.8508 - val_loss: 0.4330 - val_accuracy: 0.8105\n",
      "Epoch 61/500\n",
      "102/102 [==============================] - 1s 8ms/step - loss: 0.3807 - accuracy: 0.8444 - val_loss: 0.4335 - val_accuracy: 0.8086\n",
      "Epoch 62/500\n",
      "102/102 [==============================] - 1s 8ms/step - loss: 0.3858 - accuracy: 0.8430 - val_loss: 0.4335 - val_accuracy: 0.8086\n",
      "Epoch 63/500\n",
      "102/102 [==============================] - 1s 8ms/step - loss: 0.3879 - accuracy: 0.8424 - val_loss: 0.4396 - val_accuracy: 0.8074\n",
      "Epoch 64/500\n",
      "102/102 [==============================] - 1s 8ms/step - loss: 0.3838 - accuracy: 0.8414 - val_loss: 0.4339 - val_accuracy: 0.8086\n",
      "Epoch 65/500\n",
      "102/102 [==============================] - 1s 9ms/step - loss: 0.3899 - accuracy: 0.8397 - val_loss: 0.4372 - val_accuracy: 0.8093\n",
      "Epoch 66/500\n",
      "102/102 [==============================] - 1s 8ms/step - loss: 0.3887 - accuracy: 0.8413 - val_loss: 0.4355 - val_accuracy: 0.8086\n",
      "Epoch 67/500\n",
      "102/102 [==============================] - 1s 8ms/step - loss: 0.3956 - accuracy: 0.8339 - val_loss: 0.4358 - val_accuracy: 0.8086\n",
      "Epoch 68/500\n",
      "102/102 [==============================] - 1s 8ms/step - loss: 0.3943 - accuracy: 0.8376 - val_loss: 0.4371 - val_accuracy: 0.8099\n",
      "Epoch 69/500\n",
      "102/102 [==============================] - 1s 8ms/step - loss: 0.3812 - accuracy: 0.8425 - val_loss: 0.4361 - val_accuracy: 0.8086\n",
      "Epoch 70/500\n",
      "102/102 [==============================] - 1s 8ms/step - loss: 0.3884 - accuracy: 0.8409 - val_loss: 0.4345 - val_accuracy: 0.8086\n",
      "44/44 [==============================] - 0s 2ms/step - loss: 0.7338 - accuracy: 0.4903\n"
     ]
    },
    {
     "data": {
      "text/plain": [
       "[0.7338070869445801, 0.49028077721595764]"
      ]
     },
     "execution_count": 53,
     "metadata": {},
     "output_type": "execute_result"
    }
   ],
   "source": [
    "# source: https://keras.io/examples/timeseries/timeseries_transformer_classification/\n",
    "from keras import layers\n",
    "from models import *\n",
    "\n",
    "n_classes = 1\n",
    "epochs = 500\n",
    "\n",
    "input_shape = X_train.shape[1:]\n",
    "\n",
    "model = build_model(\n",
    "    input_shape,\n",
    "    head_size=256,\n",
    "    num_heads=4,\n",
    "    ff_dim=4,\n",
    "    num_transformer_blocks=4,\n",
    "    mlp_units=[128],\n",
    "    mlp_dropout=0.4,\n",
    "    dropout=0.25,\n",
    "    n_classes=n_classes,\n",
    ")\n",
    "\n",
    "model.compile(\n",
    "    loss=\"binary_crossentropy\",\n",
    "    optimizer=keras.optimizers.Adam(learning_rate=1e-4),\n",
    "    metrics=[\"accuracy\"],\n",
    ")\n",
    "model.summary()\n",
    "\n",
    "callbacks = [keras.callbacks.EarlyStopping(patience=10, restore_best_weights=True)]\n",
    "\n",
    "model.fit(\n",
    "    X_train,\n",
    "    y_train,\n",
    "    validation_split=0.2,\n",
    "    epochs=epochs,\n",
    "    batch_size=64,\n",
    "    callbacks=callbacks,\n",
    ")\n",
    "\n",
    "model.evaluate(X_test, y_test, verbose=1)"
   ]
  },
  {
   "cell_type": "code",
   "execution_count": 64,
   "id": "aabceb1a",
   "metadata": {
    "ExecuteTime": {
     "end_time": "2021-12-21T15:41:33.538752Z",
     "start_time": "2021-12-21T15:41:33.458990Z"
    }
   },
   "outputs": [],
   "source": [
    "# obtendo as predictions nos dados de teste\n",
    "predictions_rf = rf.predict(X_test)\n",
    "predictions_lr = lr.predict(X_test)"
   ]
  },
  {
   "cell_type": "code",
   "execution_count": 65,
   "id": "07f96e90",
   "metadata": {
    "ExecuteTime": {
     "end_time": "2021-12-21T15:41:54.338033Z",
     "start_time": "2021-12-21T15:41:54.304600Z"
    }
   },
   "outputs": [],
   "source": [
    "# obtendo a performance dos modelos\n",
    "\n",
    "accuracy_score_rf = accuracy_score(y_test, predictions_rf)\n",
    "accuracy_score_lr = accuracy_score(y_test, predictions_lr)"
   ]
  },
  {
   "cell_type": "code",
   "execution_count": 67,
   "id": "8f0c2840",
   "metadata": {
    "ExecuteTime": {
     "end_time": "2021-12-21T15:42:42.765777Z",
     "start_time": "2021-12-21T15:42:42.660448Z"
    }
   },
   "outputs": [
    {
     "data": {
      "image/png": "[encoded data removed]",
      "text/plain": [
       "<Figure size 432x288 with 1 Axes>"
      ]
     },
     "metadata": {
      "needs_background": "light"
     },
     "output_type": "display_data"
    }
   ],
   "source": [
    "# visualizando as performances\n",
    "import matplotlib.pyplot as plt\n",
    "plt.bar([\"Random Forest\",\"Logistic Regression\"],height=[accuracy_score_rf,accuracy_score_lr], color=[\"red\",\"orange\"])\n",
    "plt.title(\"Accuracy performance\")\n",
    "plt.ylim(0,1)\n",
    "plt.show()"
   ]
  },
  {
   "cell_type": "code",
   "execution_count": null,
   "id": "5faa4072",
   "metadata": {},
   "outputs": [],
   "source": []
  }
 ],
 "metadata": {
  "hide_input": false,
  "interpreter": {
   "hash": "180f999d9848f1224ab7a40d614ddb7a64ce5dc191baad50ff5b5a373ba31d53"
  },
  "kernelspec": {
   "display_name": "explore",
   "language": "python",
   "name": "python3"
  },
  "language_info": {
   "codemirror_mode": {
    "name": "ipython",
    "version": 3
   },
   "file_extension": ".py",
   "mimetype": "text/x-python",
   "name": "python",
   "nbconvert_exporter": "python",
   "pygments_lexer": "ipython3",
   "version": "3.8.8"
  },
  "toc": {
   "base_numbering": 1,
   "nav_menu": {},
   "number_sections": true,
   "sideBar": true,
   "skip_h1_title": false,
   "title_cell": "Table of Contents",
   "title_sidebar": "Contents",
   "toc_cell": false,
   "toc_position": {},
   "toc_section_display": true,
   "toc_window_display": false
  },
  "varInspector": {
   "cols": {
    "lenName": 16,
    "lenType": 16,
    "lenVar": 40
   },
   "kernels_config": {
    "python": {
     "delete_cmd_postfix": "",
     "delete_cmd_prefix": "del ",
     "library": "var_list.py",
     "varRefreshCmd": "print(var_dic_list())"
    },
    "r": {
     "delete_cmd_postfix": ") ",
     "delete_cmd_prefix": "rm(",
     "library": "var_list.r",
     "varRefreshCmd": "cat(var_dic_list()) "
    }
   },
   "types_to_exclude": [
    "module",
    "function",
    "builtin_function_or_method",
    "instance",
    "_Feature"
   ],
   "window_display": false
  }
 },
 "nbformat": 4,
 "nbformat_minor": 5
}
