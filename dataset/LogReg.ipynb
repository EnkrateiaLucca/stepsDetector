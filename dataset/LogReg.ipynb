{
 "cells": [
  {
   "cell_type": "markdown",
   "metadata": {},
   "source": [
    "# Fundamentals of Machine Learning: Project 1\n",
    "\n",
    "## Bernardo Costa, Fábio Almeida, Ivo Rodrigues\n",
    "\n",
    "**Objectives**: Implement a logistic regression model and see if it works on step detection."
   ]
  },
  {
   "cell_type": "markdown",
   "metadata": {},
   "source": [
    "**Problem:** Build a Logistic Regression model to predict whether the smartphone accelerometer data corresponds to a real step or not. For this, the mobile phone should be held in a texting position.\n"
   ]
  },
  {
   "cell_type": "code",
   "execution_count": 46,
   "metadata": {},
   "outputs": [],
   "source": [
    "#Import relevant libraries\n",
    "import numpy as np\n",
    "import random as rd\n",
    "import matplotlib.pyplot as plt\n",
    "import pandas as pd\n",
    "import sys"
   ]
  },
  {
   "cell_type": "markdown",
   "metadata": {},
   "source": [
    "## Load Data\n",
    "\n",
    "The file *RawZAxis.txt* contains the original accelerometer data for this problem, while the file *StepsOrNot.txt* contains the labels.\n",
    "\n",
    "Load data, using function pd.read_csv from panda library. \n",
    "\n",
    "Extract X (the accelerometer data) and y (the labels). \n",
    "\n",
    "The X vector should be transformed into a matrix of columns *[k-p]* to *[k+p]*, corresponding to the real features: windows of samples (each able to contain data for a full step), as labelling individual timestamps provides no useful information."
   ]
  },
  {
   "cell_type": "code",
   "execution_count": 47,
   "metadata": {},
   "outputs": [
    {
     "name": "stdout",
     "output_type": "stream",
     "text": [
      "'Phase 1: Importing and restructuring data' successfuly completed.\n",
      "6\n"
     ]
    }
   ],
   "source": [
    "# file imports\n",
    "training_raw_acc = pd.read_csv(\"Training\\TrainingAccZAxis.txt\",header=None)\n",
    "training_raw_dif = pd.read_csv(\"Training\\TrainingDiffs.txt\",header=None)\n",
    "training_raw_stp = pd.read_csv(\"Training\\TrainingStepsOrNot.txt\",header=None)\n",
    "\n",
    "# initial data structures\n",
    "aux_xtrain_acc = training_raw_acc.values\n",
    "aux_xtrain_dif = training_raw_dif.values\n",
    "aux_ytrain = training_raw_stp.values\n",
    "\n",
    "# size validation of imported data\n",
    "n_xtrain_acc = len(aux_xtrain_acc)\n",
    "n_xtrain_dif = len(aux_xtrain_dif)\n",
    "n_ytrain = len(aux_ytrain)\n",
    "\n",
    "if ((n_xtrain_acc != n_ytrain) or (n_xtrain_dif != n_ytrain)):\n",
    "    print(\"IMPORTED ARRAYS HAVE DIFFERENT LENGTHS!\")\n",
    "\n",
    "### restructuring data into features and corresponding labels ###\n",
    "\n",
    "window_size = 3 # window size must be positive and odd\n",
    "if ((window_size % 2 == 0) or (window_size <= 0)):\n",
    "    print(\"INVALID WINDOW SIZE! AUTOMATICALLY DECREMENTING 1 FROM THE SET VALUE FOR VALID EXECUTION\")\n",
    "    window_size -= 1\n",
    "    \n",
    "p = int((window_size-1)/2) # defines both window center and number of past/future samples to be evaluated\n",
    "\n",
    "l = p # l is the control variable for the while loop below\n",
    "\n",
    "# feature array initialization\n",
    "matrix_m = n_xtrain_acc - 2*p;\n",
    "\n",
    "Xtrain_acc = np.zeros((matrix_m,window_size))\n",
    "Xtrain_dif = np.zeros((matrix_m,window_size))\n",
    "ytrain = np.zeros((matrix_m,1))\n",
    "\n",
    "aux_xtrain_acc = aux_xtrain_acc.reshape(1,len(aux_xtrain_acc))\n",
    "aux_xtrain_dif = aux_xtrain_dif.reshape(1,len(aux_xtrain_dif))\n",
    "aux_ytrain = aux_ytrain.reshape(len(aux_ytrain),1)\n",
    "\n",
    "# filling the feature array\n",
    "while(l <= n_xtrain_acc - p - 1):\n",
    "    Xtrain_acc[l-p][:] = aux_xtrain_acc[0,(l-p):(l+p+1)]\n",
    "    Xtrain_dif[l-p][:] = aux_xtrain_dif[0,(l-p):(l+p+1)]\n",
    "    if(aux_ytrain[l,0] == 1):\n",
    "        ytrain[l-p,0] = int(1)\n",
    "    else:\n",
    "        ytrain[l-p,0] = int(0)\n",
    "    l += 1\n",
    "\n",
    "if ((len(Xtrain_acc) != len(ytrain)) or (len(Xtrain_dif) != len(ytrain))):\n",
    "    print(\"SOMETHING WENT WRONG DURING DATA RESTRUCTURING!\")\n",
    "else:\n",
    "    print(\"'Phase 1: Importing and restructuring data' successfuly completed.\")\n",
    "\n",
    "        \n",
    "\n",
    "\n",
    "Xtrain = np.concatenate((Xtrain_acc, Xtrain_dif), axis=1)\n",
    "\n",
    "# update window size after concatenate\n",
    "window_size = Xtrain.shape[1]\n",
    "print(window_size)\n",
    "\n",
    "\n",
    "\n",
    "\n",
    "### end of data restructuring ###"
   ]
  },
  {
   "cell_type": "code",
   "execution_count": 48,
   "metadata": {},
   "outputs": [],
   "source": [
    "### Balancing data: discarding some 'zero' examples ###\n",
    "ones_examples = int(sum(ytrain))\n",
    "total_zeros = len(ytrain) - ones_examples\n",
    "\n",
    "k = 0\n",
    "k2 = 0\n",
    "arr_zer_index = np.zeros((total_zeros,1))\n",
    "\n",
    "while(k < len(ytrain)):\n",
    "    if ytrain[k] == 0:\n",
    "        arr_zer_index[k2] = k\n",
    "        k2 += 1\n",
    "    k += 1\n",
    "    \n",
    "indexes = rd.sample(range(len(arr_zer_index)), ones_examples) # return random array indexes\n",
    "\n",
    "# return original ones separately\n",
    "aux_ones_X = np.zeros((ones_examples,window_size))\n",
    "aux_ones_y = np.zeros((ones_examples,1))\n",
    "\n",
    "k = 0\n",
    "k2 = 0\n",
    "\n",
    "while(k < len(ytrain)):\n",
    "    if ytrain[k] == 1:\n",
    "        aux_ones_X[k2,:] = Xtrain[k]\n",
    "        aux_ones_y[k2] = ytrain[k]\n",
    "        k2 += 1\n",
    "    k += 1\n",
    "    \n",
    "# return original zeros separately\n",
    "aux_zrs_X = np.zeros((total_zeros,window_size))\n",
    "aux_zrs_y = np.zeros((total_zeros,1))\n",
    "\n",
    "k = 0\n",
    "k2 = 0\n",
    "\n",
    "while(k < len(ytrain)):\n",
    "    if ytrain[k] == 0:\n",
    "        aux_zrs_X[k2,:] = Xtrain[k]\n",
    "        aux_zrs_y[k2] = ytrain[k]\n",
    "        k2 += 1\n",
    "    k += 1\n",
    "    \n",
    "# Get corresponding zeros from indexes\n",
    "\n",
    "k = 0\n",
    "new_zeros_X = np.zeros((ones_examples,window_size))\n",
    "new_zeros_y = np.zeros((ones_examples,1))\n",
    "\n",
    "while(k < len(indexes)):\n",
    "    new_zeros_X[k,:] = aux_zrs_X[indexes[k]]\n",
    "    new_zeros_y[k] = aux_zrs_y[indexes[k]]\n",
    "    k += 1\n",
    "    \n",
    "Xtrain = np.concatenate((aux_ones_X, new_zeros_X), axis=0)\n",
    "ytrain = np.concatenate((aux_ones_y, new_zeros_y), axis=0)\n",
    "\n",
    "\n",
    "with open('matrixy.txt', 'w') as testfile:\n",
    "    for row in ytrain:\n",
    "        testfile.write(' '.join([str(int(a)) for a in row]) + '\\n')\n",
    "\n",
    "\n",
    "with open('matrixXnew.txt', 'w') as testfile:\n",
    "    for row in Xtrain:\n",
    "        testfile.write(' '.join([str(a) for a in row]) + '\\n')\n",
    "\n",
    "\n",
    "\n",
    "\n"
   ]
  },
  {
   "cell_type": "code",
   "execution_count": 49,
   "metadata": {},
   "outputs": [
    {
     "data": {
      "text/html": [
       "<div>\n",
       "<style scoped>\n",
       "    .dataframe tbody tr th:only-of-type {\n",
       "        vertical-align: middle;\n",
       "    }\n",
       "\n",
       "    .dataframe tbody tr th {\n",
       "        vertical-align: top;\n",
       "    }\n",
       "\n",
       "    .dataframe thead th {\n",
       "        text-align: right;\n",
       "    }\n",
       "</style>\n",
       "<table border=\"1\" class=\"dataframe\">\n",
       "  <thead>\n",
       "    <tr style=\"text-align: right;\">\n",
       "      <th></th>\n",
       "      <th>Accelerometer Z Axis</th>\n",
       "    </tr>\n",
       "  </thead>\n",
       "  <tbody>\n",
       "    <tr>\n",
       "      <th>0</th>\n",
       "      <td>-0.879346</td>\n",
       "    </tr>\n",
       "    <tr>\n",
       "      <th>1</th>\n",
       "      <td>-1.048041</td>\n",
       "    </tr>\n",
       "    <tr>\n",
       "      <th>2</th>\n",
       "      <td>-0.815021</td>\n",
       "    </tr>\n",
       "    <tr>\n",
       "      <th>3</th>\n",
       "      <td>-0.868610</td>\n",
       "    </tr>\n",
       "    <tr>\n",
       "      <th>4</th>\n",
       "      <td>-0.720197</td>\n",
       "    </tr>\n",
       "  </tbody>\n",
       "</table>\n",
       "</div>"
      ],
      "text/plain": [
       "   Accelerometer Z Axis\n",
       "0             -0.879346\n",
       "1             -1.048041\n",
       "2             -0.815021\n",
       "3             -0.868610\n",
       "4             -0.720197"
      ]
     },
     "execution_count": 49,
     "metadata": {},
     "output_type": "execute_result"
    }
   ],
   "source": [
    "#a few examples from the dataset \n",
    "training_raw_acc.columns = [\"Accelerometer Z Axis\"]\n",
    "training_raw_dif.columns = [\"Accelerometer Diffs Vector\"]\n",
    "\n",
    "training_raw_acc.head()\n",
    "#training_raw_dif.head()"
   ]
  },
  {
   "cell_type": "code",
   "execution_count": 50,
   "metadata": {},
   "outputs": [
    {
     "data": {
      "text/html": [
       "<div>\n",
       "<style scoped>\n",
       "    .dataframe tbody tr th:only-of-type {\n",
       "        vertical-align: middle;\n",
       "    }\n",
       "\n",
       "    .dataframe tbody tr th {\n",
       "        vertical-align: top;\n",
       "    }\n",
       "\n",
       "    .dataframe thead th {\n",
       "        text-align: right;\n",
       "    }\n",
       "</style>\n",
       "<table border=\"1\" class=\"dataframe\">\n",
       "  <thead>\n",
       "    <tr style=\"text-align: right;\">\n",
       "      <th></th>\n",
       "      <th>Accelerometer Z Axis</th>\n",
       "    </tr>\n",
       "  </thead>\n",
       "  <tbody>\n",
       "    <tr>\n",
       "      <th>count</th>\n",
       "      <td>8100.000000</td>\n",
       "    </tr>\n",
       "    <tr>\n",
       "      <th>mean</th>\n",
       "      <td>-0.846012</td>\n",
       "    </tr>\n",
       "    <tr>\n",
       "      <th>std</th>\n",
       "      <td>0.205068</td>\n",
       "    </tr>\n",
       "    <tr>\n",
       "      <th>min</th>\n",
       "      <td>-1.852814</td>\n",
       "    </tr>\n",
       "    <tr>\n",
       "      <th>25%</th>\n",
       "      <td>-0.915610</td>\n",
       "    </tr>\n",
       "    <tr>\n",
       "      <th>50%</th>\n",
       "      <td>-0.785253</td>\n",
       "    </tr>\n",
       "    <tr>\n",
       "      <th>75%</th>\n",
       "      <td>-0.711870</td>\n",
       "    </tr>\n",
       "    <tr>\n",
       "      <th>max</th>\n",
       "      <td>-0.390248</td>\n",
       "    </tr>\n",
       "  </tbody>\n",
       "</table>\n",
       "</div>"
      ],
      "text/plain": [
       "       Accelerometer Z Axis\n",
       "count           8100.000000\n",
       "mean              -0.846012\n",
       "std                0.205068\n",
       "min               -1.852814\n",
       "25%               -0.915610\n",
       "50%               -0.785253\n",
       "75%               -0.711870\n",
       "max               -0.390248"
      ]
     },
     "execution_count": 50,
     "metadata": {},
     "output_type": "execute_result"
    }
   ],
   "source": [
    "training_raw_acc.describe()\n",
    "#training_raw_dif.describe()"
   ]
  },
  {
   "cell_type": "markdown",
   "metadata": {},
   "source": [
    "### Sigmoid function\n",
    "\n",
    "Complete *sigmoid* function that computes $ g(z) = \\frac{1}{(1+e^{-z})}$. \n"
   ]
  },
  {
   "cell_type": "code",
   "execution_count": 51,
   "metadata": {},
   "outputs": [],
   "source": [
    "def sigmoid(z):\n",
    "    \"\"\"\n",
    "    return the sigmoid of z\n",
    "    \"\"\"\n",
    "    \n",
    "    gz= 1/(1+np.exp(-z))\n",
    "    \n",
    "    return gz"
   ]
  },
  {
   "cell_type": "code",
   "execution_count": 52,
   "metadata": {},
   "outputs": [
    {
     "data": {
      "text/plain": [
       "0.5"
      ]
     },
     "execution_count": 52,
     "metadata": {},
     "output_type": "execute_result"
    }
   ],
   "source": [
    "# Test the sigmoid function for z=0 => ANSWER =0.5 \n",
    "sigmoid(0)"
   ]
  },
  {
   "cell_type": "markdown",
   "metadata": {},
   "source": [
    "### Compute the Cost Function and Gradient\n",
    "\n",
    "Recall that the Logistic Regression model is defined as:    $h_{\\theta}(x^{(i)})=  \\frac{1}{1+e^{-\\theta (x^{(i)})}}$\n",
    "\n",
    "The cost function in Logistic Regression is: $J(\\theta) = \\frac{1}{m} \\sum_{i=1}^{m} [ -y^{(i)}log(h_{\\theta}(x^{(i)})) - (1 - y^{(i)})log(1 - (h_{\\theta}(x^{(i)}))]$\n",
    "\n",
    "The gradient of $J(\\theta)$ is a vector of the same length as $\\theta$  where the jth element (for j = 0, 1,…. n) is defined as:\n",
    "$ \\frac{\\partial J(\\theta)}{\\partial \\theta_j} = \\frac{1}{m} \\sum_{i=1}^{m} (h_{\\theta}(x^{(i)}) - y^{(i)})x_j^{(i)}$\n",
    "\n",
    "Complete function *costFunction* to return $J(\\theta)$ and the gradient ((partial derivative of $J(\\theta)$ with respect to each $\\theta$) for logistic regression. \n"
   ]
  },
  {
   "cell_type": "code",
   "execution_count": 53,
   "metadata": {},
   "outputs": [],
   "source": [
    "def costFunction(theta, X, y):\n",
    "    \"\"\"\n",
    "    Takes in numpy array theta, x and y and return the logistic regression cost function and gradient\n",
    "    \"\"\"\n",
    "    \n",
    "    #number of training examples \n",
    "    m=len(y)\n",
    "    \n",
    "    #vector of the model predictions for all training examples   \n",
    "    h = sigmoid(np.dot(X,theta))\n",
    "         \n",
    "    error = (-y * np.log(h)) - ((1-y)*np.log(1-h))\n",
    "\n",
    "    #cost function\n",
    "    cost = 1/m * sum(error)\n",
    "       \n",
    "    #vector of gradients of all model parameters theta   \n",
    "    grad = 1/m * np.dot(X.transpose(),(h - y))\n",
    "    \n",
    "    return cost[0] , grad"
   ]
  },
  {
   "cell_type": "markdown",
   "metadata": {},
   "source": [
    "\n",
    "### Feature normalization\n",
    "Apply the same normalization as in Lab 2 (PART 2 Multivariable Linear Regression). "
   ]
  },
  {
   "cell_type": "code",
   "execution_count": 54,
   "metadata": {},
   "outputs": [],
   "source": [
    "def featureNormalization(X):\n",
    "    \"\"\"\n",
    "    Take in numpy array of X values and return normalize X values,\n",
    "    the mean and standard deviation of each feature\n",
    "    \"\"\"\n",
    "    mean= np.mean(X,axis=0)\n",
    "    std= np.std(X,axis=0)\n",
    "    \n",
    "    X_norm = (X-mean)/std\n",
    "    \n",
    "    return X_norm , mean , std"
   ]
  },
  {
   "cell_type": "code",
   "execution_count": 55,
   "metadata": {},
   "outputs": [
    {
     "name": "stdout",
     "output_type": "stream",
     "text": [
      "Cost of initial theta is 0.693\n",
      "Gradient at initial theta (zeros): [[ 0.        ]\n",
      " [ 0.22109073]\n",
      " [ 0.30587051]\n",
      " [ 0.19491151]\n",
      " [ 0.25824475]\n",
      " [ 0.07031758]\n",
      " [-0.09381708]]\n"
     ]
    }
   ],
   "source": [
    "#Run featureNormalization to normalize X, store the means and stds.\n",
    "\n",
    "X, X_mean, X_std = featureNormalization(Xtrain)\n",
    "m = len(X)\n",
    "#After normalizing the features, add an extra column of 1's corresponding to x0 = 1.\n",
    "X= np.append(np.ones((m,1)),X.reshape(m,window_size),axis=1)\n",
    "\n",
    "\n",
    "# Inicialize vector theta = 0\n",
    "initial_theta = np.zeros((window_size+1,1))\n",
    "\n",
    "#Run costFunction\n",
    "cost, grad= costFunction(initial_theta, X, ytrain)\n",
    "\n",
    "print(\"Cost of initial theta is\",round(cost,3) )   # ANSWER: Cost of initial theta is 0.693\n",
    "print(\"Gradient at initial theta (zeros):\",grad)  #ANSWER: Gradient at initial theta (zeros): [[-0.1 ] [-0.28122914] [-0.25098615]]"
   ]
  },
  {
   "cell_type": "markdown",
   "metadata": {},
   "source": [
    "### Gradient Descent\n",
    "Implement gradient descent in the function *gradientDescent*. \n",
    "The gradient descent algorithm is very similar to linear regression. \n",
    "\n",
    "The only difference is that the hypothesis is now the sigmoid function:  $h_{\\theta}(x)=  \\frac{1}{1+e^{-\\theta^T x}}$\n",
    "\n",
    "The loop structure is written, you need to supply the updates for $\\theta$  within each iteration."
   ]
  },
  {
   "cell_type": "code",
   "execution_count": 56,
   "metadata": {},
   "outputs": [],
   "source": [
    "def gradientDescent(X,y,theta,alpha,num_iters):\n",
    "    \"\"\"\n",
    "    Take in numpy array X, y and theta and update theta by taking num_iters gradient steps\n",
    "    with learning rate of alpha\n",
    "    \n",
    "    return theta and the list of the cost of theta during each iteration\n",
    "    \"\"\"\n",
    "    #number of training examples\n",
    "    m=len(y)\n",
    "    J_history =[]\n",
    "    \n",
    "    for i in range(num_iters):\n",
    "        cost, grad = costFunction(theta, X, y)\n",
    "        theta = theta-(alpha*grad)\n",
    "        J_history.append(cost)\n",
    "    \n",
    "    return theta , J_history"
   ]
  },
  {
   "cell_type": "code",
   "execution_count": 57,
   "metadata": {},
   "outputs": [
    {
     "name": "stdout",
     "output_type": "stream",
     "text": [
      "Theta optimized by gradient descent: [[ 0.53275366]\n",
      " [-1.46292223]\n",
      " [-1.86926103]\n",
      " [-1.46020588]\n",
      " [-0.63301762]\n",
      " [-0.33938529]\n",
      " [ 0.35472733]]\n",
      "The cost for the optimized theta: 0.279\n"
     ]
    }
   ],
   "source": [
    "# Run gradientDescent with learning rate 0.5 and 400 iterations. \n",
    "theta , J_history = gradientDescent(X,ytrain,initial_theta,0.5,400)\n",
    "\n",
    "print(\"Theta optimized by gradient descent:\",theta)\n",
    "\n",
    "print(\"The cost for the optimized theta:\",round(J_history[-1],3))  #ANSWER: The cost for the optimized theta: 0.205"
   ]
  },
  {
   "cell_type": "markdown",
   "metadata": {},
   "source": [
    "### Plot the Cost Function \n",
    "Choose 400 iterations. Try different values of the learning  rate = [0.01, 0.1, 0.5, 1]."
   ]
  },
  {
   "cell_type": "code",
   "execution_count": 58,
   "metadata": {},
   "outputs": [
    {
     "data": {
      "text/plain": [
       "<matplotlib.legend.Legend at 0x17c398b1c40>"
      ]
     },
     "execution_count": 58,
     "metadata": {},
     "output_type": "execute_result"
    },
    {
     "data": {
      "image/png": "[encoded data removed]",
      "text/plain": [
       "<Figure size 432x288 with 1 Axes>"
      ]
     },
     "metadata": {
      "needs_background": "light"
     },
     "output_type": "display_data"
    }
   ],
   "source": [
    "lr=[0.01, 0.1, 0.5, 1]\n",
    "for i in lr:\n",
    "    theta, J_history = gradientDescent(X, ytrain, initial_theta, i, 400)\n",
    "    plt.plot(range(400), J_history)\n",
    "\n",
    "plt.xlabel(\"Iteration\")\n",
    "plt.ylabel(\"$J(\\Theta)$\")\n",
    "plt.title(\"Cost function using Gradient Descent\")\n",
    "plt.legend([\"0.01\",\"0.1\",\"0.5\",\"1\"])"
   ]
  },
  {
   "cell_type": "markdown",
   "metadata": {},
   "source": [
    "### Prediction\n",
    "\n",
    "For a given step window, corresponding to a real valid step, use the learned model to compute the step ocurrence probability."
   ]
  },
  {
   "cell_type": "code",
   "execution_count": 59,
   "metadata": {},
   "outputs": [
    {
     "name": "stdout",
     "output_type": "stream",
     "text": [
      "For the given window, the probability of a step ocurrence is:  0.576919398240608 %\n"
     ]
    }
   ],
   "source": [
    "# testing a real step\n",
    "#x_test = np.array([-1.028643, -1.489803, -0.7642385, -0.237778, -0.4611599, 0.7255644])\n",
    "\n",
    "# testing a non-step\n",
    "x_test = np.array([-0.936594, -0.5905409, -0.6264395, 0.5687029, 0.3460531, -0.03589851])\n",
    "\n",
    "\n",
    "#Normalize the values\n",
    "x_test = (x_test - X_mean)/X_std\n",
    "#Add one\n",
    "x_test = np.append(np.ones(1),x_test)\n",
    "#Compute the prediction (the probability for admission)\n",
    "prob = sigmoid(x_test.dot(theta))\n",
    "\n",
    "print(\"For the given window, the probability of a step ocurrence is: \",(prob[0]*100),\"%\")"
   ]
  },
  {
   "cell_type": "markdown",
   "metadata": {},
   "source": [
    "### Accuracy on training set \n",
    "\n",
    "Evaluate how well the learned model predicts on the training set. \n",
    "\n",
    "Your task is to complete the function *classifierPredict*. \n",
    "\n",
    "The *classifierPredict* function returns a boolean array with True if the probability of admission into university is more than 0.5 and False otherwise. Taking the sum(p==y) adds up all instances where it correctly predicts the given y values (the labels)."
   ]
  },
  {
   "cell_type": "code",
   "execution_count": 60,
   "metadata": {},
   "outputs": [],
   "source": [
    "def classifierPredict(theta,X):\n",
    "    \"\"\"\n",
    "    take in numpy array of theta and X and predict the class \n",
    "    \"\"\"\n",
    "    predictions = X.dot(theta)\n",
    "    bool_values = (predictions > 0.5)\n",
    "    \n",
    "    return bool_values.astype(int)"
   ]
  },
  {
   "cell_type": "code",
   "execution_count": 61,
   "metadata": {},
   "outputs": [
    {
     "name": "stdout",
     "output_type": "stream",
     "text": [
      "Training accuracy: 88.73333333333333 %\n",
      "Correct steps: 2490\n",
      "Correct non-steps: 2834\n",
      "Fake steps: 166\n",
      "Undetected steps: 510\n",
      "Total steps: 3000\n"
     ]
    }
   ],
   "source": [
    "p=classifierPredict(theta,X)\n",
    "p_format = np.copy(p)\n",
    "undetected_steps = 0\n",
    "correct_steps = 0\n",
    "correct_nonsteps = 0\n",
    "fake_steps = 0\n",
    "total_steps = int(sum(ytrain))\n",
    "\n",
    "# where there are real steps (3 consecutive ones), verify the ocurrence of ones\n",
    "# and then, if there are ones in a 3-sample window, fill these 3 samples with ones\n",
    "\n",
    "k = 0;\n",
    "#while (k < len(ytrain)-3):\n",
    "while (k < len(ytrain)):\n",
    "    if (ytrain[k] == 1):\n",
    "        #if((p[k] == 1) or (p[k+1] == 1) or (p[k+2] == 1)):\n",
    "        if(p[k] == 1):\n",
    "            p_format[k] = 1\n",
    "            #p_format[k+1] = 1\n",
    "            #p_format[k+2] = 1\n",
    "            correct_steps += 1\n",
    "        else:\n",
    "            undetected_steps +=1\n",
    "        #k += 3\n",
    "    else:\n",
    "        if(p[k] == 1):\n",
    "            fake_steps += 1\n",
    "        else:\n",
    "            correct_nonsteps += 1\n",
    "        # k += 1\n",
    "    k += 1\n",
    "\n",
    "print(\"Training accuracy:\", 100*(sum(p_format==ytrain)[0])/len(ytrain),\"%\")\n",
    "print(\"Correct steps:\", int(correct_steps))\n",
    "print(\"Correct non-steps:\", correct_nonsteps)\n",
    "print(\"Fake steps:\", int(fake_steps))\n",
    "print(\"Undetected steps:\", int(np.ceil(undetected_steps)))\n",
    "print(\"Total steps:\", total_steps)\n"
   ]
  },
  {
   "cell_type": "markdown",
   "metadata": {},
   "source": [
    "## Validation of the computed model on the test set"
   ]
  },
  {
   "cell_type": "code",
   "execution_count": 18,
   "metadata": {},
   "outputs": [
    {
     "name": "stdout",
     "output_type": "stream",
     "text": [
      "'Testing data: Importing and restructuring data' successfuly completed.\n",
      "6\n"
     ]
    }
   ],
   "source": [
    "# file imports\n",
    "testing_raw_acc = pd.read_csv(\"Testing\\TestingAccZAxis.txt\",header=None)\n",
    "testing_raw_dif = pd.read_csv(\"Testing\\TestingDiffs.txt\",header=None)\n",
    "testing_raw_stp = pd.read_csv(\"Testing\\TestingStepsOrNot.txt\",header=None)\n",
    "\n",
    "# initial data structures\n",
    "aux_xtest_acc = testing_raw_acc.values\n",
    "aux_xtest_dif = testing_raw_dif.values\n",
    "aux_ytest = testing_raw_stp.values\n",
    "\n",
    "# size validation of imported data\n",
    "n_xtest_acc = len(aux_xtest_acc)\n",
    "n_xtest_dif = len(aux_xtest_dif)\n",
    "n_ytest = len(aux_ytest)\n",
    "\n",
    "if ((n_xtest_acc != n_ytest) or (n_xtest_dif != n_ytest)):\n",
    "    print(\"IMPORTED ARRAYS HAVE DIFFERENT LENGTHS!\")\n",
    "\n",
    "### restructuring data into features and corresponding labels ###\n",
    "\n",
    "window_size = 3 # window size must be positive and odd\n",
    "if ((window_size % 2 == 0) or (window_size <= 0)):\n",
    "    print(\"INVALID WINDOW SIZE! AUTOMATICALLY DECREMENTING 1 FROM THE SET VALUE FOR VALID EXECUTION\")\n",
    "    window_size -= 1\n",
    "    \n",
    "p = int((window_size-1)/2) # defines both window center and number of past/future samples to be evaluated\n",
    "\n",
    "l = p # l is the control variable for the while loop below\n",
    "\n",
    "# feature array initialization\n",
    "matrix_m = n_xtest_acc - 2*p;\n",
    "\n",
    "Xtest_acc = np.zeros((matrix_m,window_size))\n",
    "Xtest_dif = np.zeros((matrix_m,window_size))\n",
    "ytest = np.zeros((matrix_m,1))\n",
    "\n",
    "aux_xtest_acc = aux_xtest_acc.reshape(1,len(aux_xtest_acc))\n",
    "aux_xtest_dif = aux_xtest_dif.reshape(1,len(aux_xtest_dif))\n",
    "aux_ytest = aux_ytest.reshape(len(aux_ytest),1)\n",
    "\n",
    "# filling the feature array\n",
    "while(l <= n_xtest_acc - p - 1):\n",
    "    Xtest_acc[l-p][:] = aux_xtest_acc[0,(l-p):(l+p+1)]\n",
    "    Xtest_dif[l-p][:] = aux_xtest_dif[0,(l-p):(l+p+1)]\n",
    "    if(aux_ytest[l,0] == 1):\n",
    "        ytest[l-p,0] = int(1)\n",
    "    else:\n",
    "        ytest[l-p,0] = int(0)\n",
    "    l += 1\n",
    "\n",
    "if ((len(Xtest_acc) != len(ytest)) or (len(Xtest_dif) != len(ytest))):\n",
    "    print(\"SOMETHING WENT WRONG DURING DATA RESTRUCTURING!\")\n",
    "else:\n",
    "    print(\"'Testing data: Importing and restructuring data' successfuly completed.\")\n",
    "\n",
    "\n",
    "Xtest = np.concatenate((Xtest_acc, Xtest_dif), axis=1)\n",
    "\n",
    "# update window size after concatenate\n",
    "window_size = Xtest.shape[1]\n",
    "print(window_size)\n",
    "\n",
    "with open('matrixytest.txt', 'w') as testfile:\n",
    "    for row in ytest:\n",
    "        testfile.write(' '.join([str(int(a)) for a in row]) + '\\n')\n",
    "\n",
    "\n",
    "with open('matrixXtest.txt', 'w') as testfile:\n",
    "    for row in Xtest:\n",
    "        testfile.write(' '.join([str(a) for a in row]) + '\\n')\n",
    "\n",
    "### end of data restructuring ###"
   ]
  },
  {
   "cell_type": "code",
   "execution_count": 62,
   "metadata": {},
   "outputs": [
    {
     "name": "stdout",
     "output_type": "stream",
     "text": [
      "Training accuracy: 88.46431146359048 %\n",
      "Correct steps: 519\n",
      "Correct non-steps: 708\n",
      "Fake steps: 79\n",
      "Undetected steps: 81\n",
      "Total steps: 600\n"
     ]
    },
    {
     "data": {
      "text/plain": [
       "\"\\nwith open('testmatrixy.txt', 'w') as testfile:\\n    for row in ytest:\\n        testfile.write(' '.join([str(int(a)) for a in row]) + '\\n')\\n\\n\\nwith open('testmatrixp.txt', 'w') as testfile:\\n    for row in p_format:\\n        testfile.write(' '.join([str(a) for a in row]) + '\\n')\\n\""
      ]
     },
     "execution_count": 62,
     "metadata": {},
     "output_type": "execute_result"
    }
   ],
   "source": [
    "m = len(Xtest)\n",
    "X, X_mean, X_std = featureNormalization(Xtest)\n",
    "new_Xtest = np.append(np.ones((m,1)),X.reshape(m,window_size),axis=1)\n",
    "p=classifierPredict(theta,new_Xtest)\n",
    "p_format = np.copy(p)\n",
    "undetected_steps = 0\n",
    "correct_steps = 0\n",
    "correct_nonsteps = 0\n",
    "fake_steps = 0\n",
    "total_steps = int(sum(ytest))\n",
    "\n",
    "# where there are real steps (3 consecutive ones), verify the ocurrence of ones\n",
    "# and then, if there are ones in a 3-sample window, fill these 3 samples with ones\n",
    "k = 0;\n",
    "#while (k < len(ytrain)-3):\n",
    "while (k < len(ytest)):\n",
    "    if (ytest[k] == 1):\n",
    "        #if((p[k] == 1) or (p[k+1] == 1) or (p[k+2] == 1)):\n",
    "        if(p[k] == 1):\n",
    "            p_format[k] = 1\n",
    "            #p_format[k+1] = 1\n",
    "            #p_format[k+2] = 1\n",
    "            correct_steps += 1\n",
    "        else:\n",
    "            undetected_steps +=1\n",
    "        #k += 3\n",
    "    else:\n",
    "        if(p[k] == 1):\n",
    "            fake_steps += 1\n",
    "        else:\n",
    "            correct_nonsteps += 1\n",
    "        # k += 1\n",
    "    k += 1\n",
    "\n",
    "print(\"Training accuracy:\", 100*(sum(p_format==ytest)[0])/len(ytest),\"%\")\n",
    "print(\"Correct steps:\", int(correct_steps))\n",
    "print(\"Correct non-steps:\", correct_nonsteps)\n",
    "print(\"Fake steps:\", int(fake_steps))\n",
    "print(\"Undetected steps:\", int(np.ceil(undetected_steps)))\n",
    "print(\"Total steps:\", total_steps)\n",
    "\n",
    "'''\n",
    "with open('testmatrixy.txt', 'w') as testfile:\n",
    "    for row in ytest:\n",
    "        testfile.write(' '.join([str(int(a)) for a in row]) + '\\n')\n",
    "\n",
    "\n",
    "with open('testmatrixp.txt', 'w') as testfile:\n",
    "    for row in p_format:\n",
    "        testfile.write(' '.join([str(a) for a in row]) + '\\n')\n",
    "'''"
   ]
  },
  {
   "cell_type": "markdown",
   "metadata": {},
   "source": [
    "## sklearn library to solve the same problem "
   ]
  },
  {
   "cell_type": "code",
   "execution_count": 20,
   "metadata": {},
   "outputs": [
    {
     "name": "stdout",
     "output_type": "stream",
     "text": [
      "0.896\n",
      "[1. 0. 0. ... 0. 0. 0.]\n"
     ]
    },
    {
     "name": "stderr",
     "output_type": "stream",
     "text": [
      "C:\\Users\\brinc\\anaconda3\\lib\\site-packages\\sklearn\\utils\\validation.py:63: DataConversionWarning: A column-vector y was passed when a 1d array was expected. Please change the shape of y to (n_samples, ), for example using ravel().\n",
      "  return f(*args, **kwargs)\n"
     ]
    }
   ],
   "source": [
    "from sklearn.linear_model import LogisticRegression\n",
    "#x_test = np.array([-0.8717815,-0.8625095,-0.8654374,-0.8654374,-0.809653,-0.800137,-0.8362795,-0.8481135,-0.827709,-0.827099,-0.8328635,-0.8328635,-0.810507,-0.793793,-0.8318875,-0.8805655,-0.927078,-0.913536,-0.913536,-0.8561655,-0.807823,-0.793305,-0.778787,-0.7671665,-0.774517\n",
    "#])\n",
    "x_test = np.array([-0.67527, -0.797575, -1.4073, -0.01772046, -0.122305, -0.6097255])\n",
    "\n",
    "y_new = ytrain.reshape(len(ytrain), 1)\n",
    "x_test = x_test.reshape(1,len(x_test))\n",
    "logitN = LogisticRegression()\n",
    "\n",
    "# Treina o modelo\n",
    "logitN.fit(Xtrain,y_new)\n",
    "\n",
    "# Prediction of step\n",
    "new_evaluation = logitN.predict(Xtest)\n",
    "print(logitN.score(Xtrain, y_new))\n",
    "\n",
    "\n",
    "print(new_evaluation)"
   ]
  },
  {
   "cell_type": "code",
   "execution_count": null,
   "metadata": {},
   "outputs": [],
   "source": []
  }
 ],
 "metadata": {
  "hide_input": false,
  "kernelspec": {
   "display_name": "Python 3 (ipykernel)",
   "language": "python",
   "name": "python3"
  },
  "language_info": {
   "codemirror_mode": {
    "name": "ipython",
    "version": 3
   },
   "file_extension": ".py",
   "mimetype": "text/x-python",
   "name": "python",
   "nbconvert_exporter": "python",
   "pygments_lexer": "ipython3",
   "version": "3.9.7"
  },
  "toc": {
   "base_numbering": 1,
   "nav_menu": {},
   "number_sections": true,
   "sideBar": true,
   "skip_h1_title": false,
   "title_cell": "Table of Contents",
   "title_sidebar": "Contents",
   "toc_cell": false,
   "toc_position": {},
   "toc_section_display": true,
   "toc_window_display": false
  },
  "varInspector": {
   "cols": {
    "lenName": 16,
    "lenType": 16,
    "lenVar": 40
   },
   "kernels_config": {
    "python": {
     "delete_cmd_postfix": "",
     "delete_cmd_prefix": "del ",
     "library": "var_list.py",
     "varRefreshCmd": "print(var_dic_list())"
    },
    "r": {
     "delete_cmd_postfix": ") ",
     "delete_cmd_prefix": "rm(",
     "library": "var_list.r",
     "varRefreshCmd": "cat(var_dic_list()) "
    }
   },
   "types_to_exclude": [
    "module",
    "function",
    "builtin_function_or_method",
    "instance",
    "_Feature"
   ],
   "window_display": false
  }
 },
 "nbformat": 4,
 "nbformat_minor": 2
}
