{
 "cells": [
  {
   "cell_type": "markdown",
   "id": "037a65af",
   "metadata": {},
   "source": [
    "# Fundamentals of Machine Learning: Project 1\n",
    "\n",
    "## Bernardo Costa, Fábio Almeida, Ivo Rodrigues\n",
    "\n",
    "**Objectives**: Implement an ANN model and see if it works on step detection."
   ]
  },
  {
   "cell_type": "markdown",
   "id": "a8e43266",
   "metadata": {},
   "source": [
    "**Problem:** Build an ANN model to predict whether the smartphone accelerometer data corresponds to a real step or not. For this, the mobile phone should be held in a texting position."
   ]
  },
  {
   "cell_type": "code",
   "execution_count": 120,
   "id": "5483e5fb",
   "metadata": {},
   "outputs": [],
   "source": [
    "#Import relevant libraries\n",
    "import sys\n",
    "import numpy as np\n",
    "import pandas as pd\n",
    "import matplotlib.pyplot as plt\n",
    "#to load matlab mat files\n",
    "from scipy.io import loadmat\n",
    "import random as rd\n",
    "from IPython.display import clear_output, display\n",
    "from sklearn.model_selection import KFold \n",
    "from sklearn.metrics import accuracy_score"
   ]
  },
  {
   "cell_type": "markdown",
   "id": "16990de0",
   "metadata": {},
   "source": [
    "### Loading and restructuring smartphone data: training set"
   ]
  },
  {
   "cell_type": "code",
   "execution_count": 121,
   "id": "77e26339",
   "metadata": {},
   "outputs": [
    {
     "name": "stdout",
     "output_type": "stream",
     "text": [
      "Step window size: 6\n",
      "'Phase 1: Importing and restructuring training data' successfuly completed.\n",
      "X shape = (6000, 6)\n",
      "Y shape = (6000, 1)\n"
     ]
    }
   ],
   "source": [
    "# file imports\n",
    "training_raw_acc = pd.read_csv(\"Training/TrainingAccZAxis.txt\",header=None)\n",
    "training_raw_dif = pd.read_csv(\"Training/TrainingDiffs.txt\",header=None)\n",
    "training_raw_stp = pd.read_csv(\"Training/TrainingStepsOrNot.txt\",header=None)\n",
    "\n",
    "# initial data structures\n",
    "aux_xtrain_acc = training_raw_acc.values\n",
    "aux_xtrain_dif = training_raw_dif.values\n",
    "aux_ytrain = training_raw_stp.values\n",
    "\n",
    "# size validation of imported data\n",
    "n_xtrain_acc = len(aux_xtrain_acc)\n",
    "n_xtrain_dif = len(aux_xtrain_dif)\n",
    "n_ytrain = len(aux_ytrain)\n",
    "\n",
    "if ((n_xtrain_acc != n_ytrain) or (n_xtrain_dif != n_ytrain)):\n",
    "    print(\"IMPORTED ARRAYS HAVE DIFFERENT LENGTHS!\")\n",
    "\n",
    "### restructuring data into features and corresponding labels ###\n",
    "\n",
    "window_size = 3 # window size must be positive and odd\n",
    "if ((window_size % 2 == 0) or (window_size <= 0)):\n",
    "    print(\"INVALID WINDOW SIZE! AUTOMATICALLY DECREMENTING 1 FROM THE SET VALUE FOR VALID EXECUTION\")\n",
    "    window_size -= 1\n",
    "    \n",
    "p = int((window_size-1)/2) # defines both window center and number of past/future samples to be evaluated\n",
    "\n",
    "l = p # l is the control variable for the while loop below\n",
    "\n",
    "# feature array initialization\n",
    "matrix_m = n_xtrain_acc - 2*p;\n",
    "\n",
    "Xtrain_acc = np.zeros((matrix_m,window_size))\n",
    "Xtrain_dif = np.zeros((matrix_m,window_size))\n",
    "ytrain = np.zeros((matrix_m,1))\n",
    "\n",
    "aux_xtrain_acc = aux_xtrain_acc.reshape(1,len(aux_xtrain_acc))\n",
    "aux_xtrain_dif = aux_xtrain_dif.reshape(1,len(aux_xtrain_dif))\n",
    "aux_ytrain = aux_ytrain.reshape(len(aux_ytrain),1)\n",
    "\n",
    "# filling the feature array\n",
    "while(l <= n_xtrain_acc - p - 1):\n",
    "    Xtrain_acc[l-p][:] = aux_xtrain_acc[0,(l-p):(l+p+1)]\n",
    "    Xtrain_dif[l-p][:] = aux_xtrain_dif[0,(l-p):(l+p+1)]\n",
    "    if(aux_ytrain[l,0] == 1):\n",
    "        ytrain[l-p,0] = int(1)\n",
    "    else:\n",
    "        ytrain[l-p,0] = int(0)\n",
    "    l += 1\n",
    "\n",
    "Xtrain = np.concatenate((Xtrain_acc, Xtrain_dif), axis=1)\n",
    "\n",
    "# update window size after concatenate\n",
    "window_size = Xtrain.shape[1]\n",
    "print(\"Step window size:\", window_size)\n",
    "\n",
    "### Balancing data: discarding some 'zero' examples ###\n",
    "ones_examples = int(sum(ytrain))\n",
    "total_zeros = len(ytrain) - ones_examples\n",
    "\n",
    "k = 0\n",
    "k2 = 0\n",
    "arr_zer_index = np.zeros((total_zeros,1))\n",
    "\n",
    "while(k < len(ytrain)):\n",
    "    if ytrain[k] == 0:\n",
    "        arr_zer_index[k2] = k\n",
    "        k2 += 1\n",
    "    k += 1\n",
    "    \n",
    "indexes = rd.sample(range(len(arr_zer_index)), ones_examples) # return random array indexes\n",
    "\n",
    "# return original ones separately\n",
    "aux_ones_X = np.zeros((ones_examples,window_size))\n",
    "aux_ones_y = np.zeros((ones_examples,1))\n",
    "\n",
    "k = 0\n",
    "k2 = 0\n",
    "\n",
    "while(k < len(ytrain)):\n",
    "    if ytrain[k] == 1:\n",
    "        aux_ones_X[k2,:] = Xtrain[k]\n",
    "        aux_ones_y[k2] = ytrain[k]\n",
    "        k2 += 1\n",
    "    k += 1\n",
    "    \n",
    "# return original zeros separately\n",
    "aux_zrs_X = np.zeros((total_zeros,window_size))\n",
    "aux_zrs_y = np.zeros((total_zeros,1))\n",
    "\n",
    "k = 0\n",
    "k2 = 0\n",
    "\n",
    "while(k < len(ytrain)):\n",
    "    if ytrain[k] == 0:\n",
    "        aux_zrs_X[k2,:] = Xtrain[k]\n",
    "        aux_zrs_y[k2] = ytrain[k]\n",
    "        k2 += 1\n",
    "    k += 1\n",
    "    \n",
    "# Get corresponding zeros from indexes\n",
    "\n",
    "k = 0\n",
    "new_zeros_X = np.zeros((ones_examples,window_size))\n",
    "new_zeros_y = np.zeros((ones_examples,1))\n",
    "\n",
    "while(k < len(indexes)):\n",
    "    new_zeros_X[k,:] = aux_zrs_X[indexes[k]]\n",
    "    new_zeros_y[k] = aux_zrs_y[indexes[k]]\n",
    "    k += 1\n",
    "    \n",
    "# Xtrain = np.concatenate((aux_ones_X, new_zeros_X), axis=0)\n",
    "# ytrain = np.concatenate((aux_ones_y, new_zeros_y), axis=0)\n",
    "\n",
    "X = np.concatenate((aux_ones_X, new_zeros_X), axis=0)\n",
    "y = np.concatenate((aux_ones_y, new_zeros_y), axis=0)\n",
    "\n",
    "m = len(y)\n",
    "\n",
    "with open('TRAINING_matrixy.txt', 'w') as testfile:\n",
    "    for row in y:\n",
    "        testfile.write(' '.join([str(int(a)) for a in row]) + '\\n')\n",
    "\n",
    "\n",
    "with open('TRAINING_matrixX.txt', 'w') as testfile:\n",
    "    for row in X:\n",
    "        testfile.write(' '.join([str(a) for a in row]) + '\\n')\n",
    "        \n",
    "\n",
    "if (len(Xtrain) != len(ytrain)) :\n",
    "    print(\"SOMETHING WENT WRONG DURING DATA RESTRUCTURING!\")\n",
    "else:\n",
    "    print(\"'Phase 1: Importing and restructuring training data' successfuly completed.\")\n",
    "    \n",
    "print(\"X shape =\",X.shape)\n",
    "print(\"Y shape =\",y.shape)\n",
    "\n",
    "### end of data restructuring ###"
   ]
  },
  {
   "cell_type": "markdown",
   "id": "e63c14eb",
   "metadata": {},
   "source": [
    "## Random sorting array values for k-folds CV\n",
    "At this point, all 1s and 0s are grouped together. Arrays should be re-sorted.\n",
    "A new cross-validation set should be created."
   ]
  },
  {
   "cell_type": "code",
   "execution_count": 122,
   "id": "751aafe9",
   "metadata": {},
   "outputs": [
    {
     "name": "stdout",
     "output_type": "stream",
     "text": [
      "(6000, 6)\n",
      "(6000, 1)\n"
     ]
    }
   ],
   "source": [
    "aux_trainData = np.concatenate((X, y), axis=1)\n",
    "np.random.shuffle(aux_trainData) # array is resorted\n",
    "X_len = X.shape[0]\n",
    "X_col = window_size\n",
    "y_col = y.shape[1]\n",
    "X = aux_trainData[:,:window_size].copy()\n",
    "y = aux_trainData[:,window_size].copy()\n",
    "y = np.reshape(y, (-1, 1))\n",
    "print(X.shape)\n",
    "print(y.shape)\n",
    "\n",
    "with open('sortedTRAINING_matrixy.txt', 'w') as testfile:\n",
    "    for row in y:\n",
    "        testfile.write(' '.join([str(int(a)) for a in row]) + '\\n')\n",
    "        \n",
    "with open('sortedTRAINING_matrixX.txt', 'w') as testfile:\n",
    "    for row in X:\n",
    "        testfile.write(' '.join([str(a) for a in row]) + '\\n')"
   ]
  },
  {
   "cell_type": "markdown",
   "id": "208186a8",
   "metadata": {},
   "source": [
    "### Sigmoid Function"
   ]
  },
  {
   "cell_type": "code",
   "execution_count": 123,
   "id": "acc3a542",
   "metadata": {},
   "outputs": [],
   "source": [
    "# Add sigmoid FUNCTION from the previous lab\n",
    "def sigmoid(z):\n",
    "    \"\"\"\n",
    "    return the sigmoid of z\n",
    "    \"\"\"\n",
    "\n",
    "    gz=1/(1+np.exp(-z))\n",
    "    \n",
    "    return gz"
   ]
  },
  {
   "cell_type": "markdown",
   "id": "cec22ed3",
   "metadata": {},
   "source": [
    "### Sigmoid Gradient"
   ]
  },
  {
   "cell_type": "code",
   "execution_count": 124,
   "id": "1fbc3d07",
   "metadata": {},
   "outputs": [],
   "source": [
    "#Computes the gradient of sigmoid function\n",
    "def sigmoid_Gradient(z):\n",
    "    \"\"\"\n",
    "    computes the gradient of the sigmoid function\n",
    "    \"\"\"\n",
    "    sigmoid = 1/(1 + np.exp(-z))\n",
    "    \n",
    "    return sigmoid *(1-sigmoid) "
   ]
  },
  {
   "cell_type": "markdown",
   "id": "470fde23",
   "metadata": {},
   "source": [
    "### Leaky ReLU function"
   ]
  },
  {
   "cell_type": "code",
   "execution_count": 125,
   "id": "b927e086",
   "metadata": {},
   "outputs": [],
   "source": [
    "def leaky_ReLU(x,c):\n",
    "    data = [np.maximum(c*value,value) for value in x]\n",
    "    return np.array(data, dtype=float)"
   ]
  },
  {
   "cell_type": "markdown",
   "id": "317148e6",
   "metadata": {},
   "source": [
    "### Leaky ReLU gradient"
   ]
  },
  {
   "cell_type": "code",
   "execution_count": 126,
   "id": "6707384b",
   "metadata": {},
   "outputs": [],
   "source": [
    "def leaky_ReLU_Gradient(x,c):\n",
    "    data = [1 if value>0 else c for value in x]\n",
    "    return np.array(data, dtype=float)"
   ]
  },
  {
   "cell_type": "markdown",
   "id": "25d4fd89",
   "metadata": {},
   "source": [
    "### Function to initialize the weights of the layers"
   ]
  },
  {
   "cell_type": "code",
   "execution_count": 127,
   "id": "ea9afc32",
   "metadata": {},
   "outputs": [],
   "source": [
    "def randInitializeWeights(L_in, L_out):\n",
    "    \"\"\"\n",
    "    randomly initializes the weights of a layer with L_in incoming connections and L_out outgoing connections.\n",
    "    \"\"\"\n",
    "    \n",
    "    epi = (6**1/2) / (L_in + L_out)**1/2\n",
    "    \n",
    "    W = np.random.rand(L_out,L_in +1) *(2*epi) -epi\n",
    "    \n",
    "    return W"
   ]
  },
  {
   "cell_type": "markdown",
   "id": "31d503d2",
   "metadata": {},
   "source": [
    "### Cost Function"
   ]
  },
  {
   "cell_type": "code",
   "execution_count": 128,
   "id": "1862af29",
   "metadata": {},
   "outputs": [],
   "source": [
    "def nnCostFunction(nn_params,input_layer_size, hidden_layer_size, num_labels,X, y,Lambda):\n",
    "    \"\"\"\n",
    "    nn_params contains the parameters unrolled into a vector\n",
    "    \n",
    "    compute the cost and gradient of the neural network\n",
    "    \"\"\"\n",
    "    # Reshape nn_params back into the parameters Theta1 and Theta2\n",
    "    Theta1 = nn_params[:((input_layer_size+1) * hidden_layer_size)].reshape(hidden_layer_size,input_layer_size+1)\n",
    "    Theta2 = nn_params[((input_layer_size +1)* hidden_layer_size ):].reshape(num_labels,hidden_layer_size+1)\n",
    "    \n",
    "    m = X.shape[0]\n",
    "    J=0\n",
    "    mse = 0\n",
    "    X = np.hstack((np.ones((m,1)),X))\n",
    "    y10 = np.zeros((m,num_labels))\n",
    "    \n",
    "    a1 = leaky_ReLU(X @ Theta1.T,0.1)\n",
    "    #a1 = sigmoid(X @ Theta1.T)\n",
    "    a1 = np.hstack((np.ones((m,1)), a1)) # hidden layer\n",
    "    a2 = sigmoid(a1 @ Theta2.T) # output layer\n",
    "    \n",
    "    for i in range(1,num_labels+1):\n",
    "        y10[:,i-1][:,np.newaxis] = np.where(y==i,1,0)\n",
    "    for j in range(num_labels):\n",
    "        J = J + sum(-y10[:,j] * np.log(a2[:,j]) - (1-y10[:,j])*np.log(1-a2[:,j]))\n",
    "        mse = mse + sum((a2[:,j] - y10[:,j])**2)\n",
    "    \n",
    "    cost = 1/m* J\n",
    "    reg_J = cost + Lambda/(2*m) * (np.sum(Theta1[:,1:]**2) + np.sum(Theta2[:,1:]**2))\n",
    "    e_theta = mse/(2*m)\n",
    "    \n",
    "    # Implement the backpropagation algorithm to compute the gradients\n",
    "    \n",
    "    grad1 = np.zeros((Theta1.shape))\n",
    "    grad2 = np.zeros((Theta2.shape))\n",
    "    \n",
    "    for i in range(m):\n",
    "        xi= X[i,:] # 1 X 401\n",
    "        a1i = a1[i,:] # 1 X 26\n",
    "        a2i =a2[i,:] # 1 X 10\n",
    "        d2 = a2i - y10[i,:]\n",
    "        d1 = Theta2.T @ d2.T * leaky_ReLU_Gradient(np.hstack((1,xi @ Theta1.T)),0.1)\n",
    "        #d1 = Theta2.T @ d2.T * sigmoid_Gradient(np.hstack((1,xi @ Theta1.T)))\n",
    "        grad1= grad1 + d1[1:][:,np.newaxis] @ xi[:,np.newaxis].T\n",
    "        grad2 = grad2 + d2.T[:,np.newaxis] @ a1i[:,np.newaxis].T\n",
    "        \n",
    "    grad1 = 1/m * grad1\n",
    "    grad2 = 1/m*grad2\n",
    "    \n",
    "    grad1_reg = grad1 + (Lambda/m) * np.hstack((np.zeros((Theta1.shape[0],1)),Theta1[:,1:]))\n",
    "    grad2_reg = grad2 + (Lambda/m) * np.hstack((np.zeros((Theta2.shape[0],1)),Theta2[:,1:]))\n",
    "    \n",
    "    return cost, grad1, grad2, reg_J, grad1_reg, grad2_reg, e_theta"
   ]
  },
  {
   "cell_type": "markdown",
   "id": "eff50240",
   "metadata": {},
   "source": [
    "### Gradient Descent"
   ]
  },
  {
   "cell_type": "code",
   "execution_count": 129,
   "id": "117da243",
   "metadata": {},
   "outputs": [],
   "source": [
    "def gradientDescentnn(X,y,initial_nn_params,alpha,num_iters,Lambda,input_layer_size, hidden_layer_size, num_labels,kfolditer):\n",
    "    \"\"\"\n",
    "    Take in numpy array X, y and theta and update theta by taking num_iters gradient steps\n",
    "    with learning rate of alpha\n",
    "    \n",
    "    return theta and the list of the cost of theta during each iteration\n",
    "    \"\"\"\n",
    "    Theta1 = initial_nn_params[:((input_layer_size+1) * hidden_layer_size)].reshape(hidden_layer_size,input_layer_size+1)\n",
    "    Theta2 = initial_nn_params[((input_layer_size +1)* hidden_layer_size ):].reshape(num_labels,hidden_layer_size+1)\n",
    "    \n",
    "    m=len(y)\n",
    "    J_history =[]\n",
    "    percent=1\n",
    "    plt.xlabel(\"Iteration\")\n",
    "    plt.ylabel(\"$J(\\Theta)$\")\n",
    "    plt.title(\"Cost function using Gradient Descent\")\n",
    "    \n",
    "    for i in range(num_iters):\n",
    "        nn_params = np.append(Theta1.flatten(),Theta2.flatten())\n",
    "        cost, grad1, grad2,reg_J, grad1_reg, grad2_reg, e_theta = nnCostFunction(nn_params,input_layer_size, hidden_layer_size, num_labels,X, y,Lambda)\n",
    "        Theta1 = Theta1 - (alpha * grad1_reg)\n",
    "        Theta2 = Theta2 - (alpha * grad2_reg)\n",
    "        J_history.append(reg_J)\n",
    "        \n",
    "        if int(100/num_iters*i)==percent:\n",
    "            clear_output(wait=True)\n",
    "            if(kfolditer > 0):\n",
    "                print(\"Iteration\", kfolditer, \":\", percent,\" % completed\")\n",
    "            else:\n",
    "                print(percent,\" % completed\")\n",
    "            percent+=1        \n",
    "            plt.plot(J_history)\n",
    "            display(plt.gcf())\n",
    "            \n",
    "    sys.stdout.flush()\n",
    "    nn_paramsFinal = np.append(Theta1.flatten(),Theta2.flatten())\n",
    "    return nn_paramsFinal , J_history, e_theta"
   ]
  },
  {
   "cell_type": "markdown",
   "id": "1528b329",
   "metadata": {},
   "source": [
    "### Prediction Function"
   ]
  },
  {
   "cell_type": "code",
   "execution_count": 130,
   "id": "d178a22f",
   "metadata": {},
   "outputs": [],
   "source": [
    "def predict(Theta1, Theta2, X):\n",
    "    \"\"\"\n",
    "    Predict the label of an input given a trained neural network\n",
    "    \"\"\"\n",
    "    \n",
    "    #number of training examples\n",
    "    m= X.shape[0]\n",
    "        \n",
    "    # add an extra column of 1´s corresponding to xo=1\n",
    "    X = np.append(np.ones((m,1)),X,axis=1)\n",
    "    Theta1 = np.transpose(Theta1)\n",
    "    #Compute the output of the hidden layer (with sigmoid activation functions)\n",
    "    z1= np.dot(X, Theta1)  #Inputs to the hidden layer neurons\n",
    "    a1= leaky_ReLU(z1,0.1)  #Outputs  of the hidden layer neurons\n",
    "    #a1= sigmoid(z1)  #Outputs  of the hidden layer neurons\n",
    "    \n",
    "    #Add a column of ones\n",
    "    a1 = np.append(np.ones((m,1)),a1,axis=1)\n",
    "    Theta2 = np.transpose(Theta2)\n",
    "    #Compute the output of the output layer (with sigmoid activation functions)\n",
    "    z2= np.dot(a1, Theta2)  #Inputs to the output layer neurons\n",
    "    a2= sigmoid(z2)  #Outputs  of the output layer neurons\n",
    "    \n",
    "    return a2"
   ]
  },
  {
   "cell_type": "markdown",
   "id": "c3c1bb08",
   "metadata": {},
   "source": [
    "## Training the model\n",
    "### The best $ \\lambda $ is determined through the K-folds CV method"
   ]
  },
  {
   "cell_type": "code",
   "execution_count": 113,
   "id": "de1b8e90",
   "metadata": {},
   "outputs": [
    {
     "name": "stdout",
     "output_type": "stream",
     "text": [
      "Iteration 1 : 1  % completed\n"
     ]
    },
    {
     "data": {
      "image/png": "[encoded data removed]",
      "text/plain": [
       "<Figure size 432x288 with 1 Axes>"
      ]
     },
     "metadata": {},
     "output_type": "display_data"
    },
    {
     "ename": "KeyboardInterrupt",
     "evalue": "",
     "output_type": "error",
     "traceback": [
      "\u001b[1;31m---------------------------------------------------------------------------\u001b[0m",
      "\u001b[1;31mKeyboardInterrupt\u001b[0m                         Traceback (most recent call last)",
      "\u001b[1;32m<ipython-input-113-7837d3c3c8e4>\u001b[0m in \u001b[0;36m<module>\u001b[1;34m\u001b[0m\n\u001b[0;32m     30\u001b[0m     \u001b[1;32mfor\u001b[0m \u001b[0mi\u001b[0m \u001b[1;32min\u001b[0m \u001b[0mrange\u001b[0m \u001b[1;33m(\u001b[0m\u001b[0mlen\u001b[0m\u001b[1;33m(\u001b[0m\u001b[0mLambdas\u001b[0m\u001b[1;33m)\u001b[0m\u001b[1;33m)\u001b[0m\u001b[1;33m:\u001b[0m\u001b[1;33m\u001b[0m\u001b[1;33m\u001b[0m\u001b[0m\n\u001b[0;32m     31\u001b[0m \u001b[1;33m\u001b[0m\u001b[0m\n\u001b[1;32m---> 32\u001b[1;33m         \u001b[0mnnTheta\u001b[0m\u001b[1;33m,\u001b[0m \u001b[0mnnJ_history\u001b[0m\u001b[1;33m,\u001b[0m \u001b[0merr_temp\u001b[0m \u001b[1;33m=\u001b[0m \u001b[0mgradientDescentnn\u001b[0m\u001b[1;33m(\u001b[0m\u001b[0mkX_train\u001b[0m\u001b[1;33m,\u001b[0m\u001b[0mky_train\u001b[0m\u001b[1;33m,\u001b[0m\u001b[0minitial_nn_params\u001b[0m\u001b[1;33m,\u001b[0m\u001b[0malpha\u001b[0m\u001b[1;33m,\u001b[0m\u001b[0mnum_iters\u001b[0m\u001b[1;33m,\u001b[0m\u001b[0mLambdas\u001b[0m\u001b[1;33m[\u001b[0m\u001b[0mi\u001b[0m\u001b[1;33m]\u001b[0m\u001b[1;33m,\u001b[0m\u001b[0minput_layer_size\u001b[0m\u001b[1;33m,\u001b[0m \u001b[0mhidden_layer_size\u001b[0m\u001b[1;33m,\u001b[0m \u001b[0mnum_labels\u001b[0m\u001b[1;33m,\u001b[0m\u001b[0mcounter\u001b[0m\u001b[1;33m)\u001b[0m\u001b[1;33m\u001b[0m\u001b[1;33m\u001b[0m\u001b[0m\n\u001b[0m\u001b[0;32m     33\u001b[0m         \u001b[0merr_total\u001b[0m\u001b[1;33m[\u001b[0m\u001b[0mi\u001b[0m\u001b[1;33m]\u001b[0m \u001b[1;33m=\u001b[0m \u001b[0merr_total\u001b[0m\u001b[1;33m[\u001b[0m\u001b[0mi\u001b[0m\u001b[1;33m]\u001b[0m \u001b[1;33m+\u001b[0m \u001b[0merr_temp\u001b[0m\u001b[1;33m\u001b[0m\u001b[1;33m\u001b[0m\u001b[0m\n\u001b[0;32m     34\u001b[0m         \u001b[0mTheta1\u001b[0m \u001b[1;33m=\u001b[0m \u001b[0mnnTheta\u001b[0m\u001b[1;33m[\u001b[0m\u001b[1;33m:\u001b[0m\u001b[1;33m(\u001b[0m\u001b[1;33m(\u001b[0m\u001b[0minput_layer_size\u001b[0m\u001b[1;33m+\u001b[0m\u001b[1;36m1\u001b[0m\u001b[1;33m)\u001b[0m \u001b[1;33m*\u001b[0m \u001b[0mhidden_layer_size\u001b[0m\u001b[1;33m)\u001b[0m\u001b[1;33m]\u001b[0m\u001b[1;33m.\u001b[0m\u001b[0mreshape\u001b[0m\u001b[1;33m(\u001b[0m\u001b[0mhidden_layer_size\u001b[0m\u001b[1;33m,\u001b[0m\u001b[0minput_layer_size\u001b[0m\u001b[1;33m+\u001b[0m\u001b[1;36m1\u001b[0m\u001b[1;33m)\u001b[0m\u001b[1;33m\u001b[0m\u001b[1;33m\u001b[0m\u001b[0m\n",
      "\u001b[1;32m<ipython-input-111-a18954d63282>\u001b[0m in \u001b[0;36mgradientDescentnn\u001b[1;34m(X, y, initial_nn_params, alpha, num_iters, Lambda, input_layer_size, hidden_layer_size, num_labels, kfolditer)\u001b[0m\n\u001b[0;32m     18\u001b[0m     \u001b[1;32mfor\u001b[0m \u001b[0mi\u001b[0m \u001b[1;32min\u001b[0m \u001b[0mrange\u001b[0m\u001b[1;33m(\u001b[0m\u001b[0mnum_iters\u001b[0m\u001b[1;33m)\u001b[0m\u001b[1;33m:\u001b[0m\u001b[1;33m\u001b[0m\u001b[1;33m\u001b[0m\u001b[0m\n\u001b[0;32m     19\u001b[0m         \u001b[0mnn_params\u001b[0m \u001b[1;33m=\u001b[0m \u001b[0mnp\u001b[0m\u001b[1;33m.\u001b[0m\u001b[0mappend\u001b[0m\u001b[1;33m(\u001b[0m\u001b[0mTheta1\u001b[0m\u001b[1;33m.\u001b[0m\u001b[0mflatten\u001b[0m\u001b[1;33m(\u001b[0m\u001b[1;33m)\u001b[0m\u001b[1;33m,\u001b[0m\u001b[0mTheta2\u001b[0m\u001b[1;33m.\u001b[0m\u001b[0mflatten\u001b[0m\u001b[1;33m(\u001b[0m\u001b[1;33m)\u001b[0m\u001b[1;33m)\u001b[0m\u001b[1;33m\u001b[0m\u001b[1;33m\u001b[0m\u001b[0m\n\u001b[1;32m---> 20\u001b[1;33m         \u001b[0mcost\u001b[0m\u001b[1;33m,\u001b[0m \u001b[0mgrad1\u001b[0m\u001b[1;33m,\u001b[0m \u001b[0mgrad2\u001b[0m\u001b[1;33m,\u001b[0m\u001b[0mreg_J\u001b[0m\u001b[1;33m,\u001b[0m \u001b[0mgrad1_reg\u001b[0m\u001b[1;33m,\u001b[0m \u001b[0mgrad2_reg\u001b[0m\u001b[1;33m,\u001b[0m \u001b[0me_theta\u001b[0m \u001b[1;33m=\u001b[0m \u001b[0mnnCostFunction\u001b[0m\u001b[1;33m(\u001b[0m\u001b[0mnn_params\u001b[0m\u001b[1;33m,\u001b[0m\u001b[0minput_layer_size\u001b[0m\u001b[1;33m,\u001b[0m \u001b[0mhidden_layer_size\u001b[0m\u001b[1;33m,\u001b[0m \u001b[0mnum_labels\u001b[0m\u001b[1;33m,\u001b[0m\u001b[0mX\u001b[0m\u001b[1;33m,\u001b[0m \u001b[0my\u001b[0m\u001b[1;33m,\u001b[0m\u001b[0mLambda\u001b[0m\u001b[1;33m)\u001b[0m\u001b[1;33m\u001b[0m\u001b[1;33m\u001b[0m\u001b[0m\n\u001b[0m\u001b[0;32m     21\u001b[0m         \u001b[0mTheta1\u001b[0m \u001b[1;33m=\u001b[0m \u001b[0mTheta1\u001b[0m \u001b[1;33m-\u001b[0m \u001b[1;33m(\u001b[0m\u001b[0malpha\u001b[0m \u001b[1;33m*\u001b[0m \u001b[0mgrad1_reg\u001b[0m\u001b[1;33m)\u001b[0m\u001b[1;33m\u001b[0m\u001b[1;33m\u001b[0m\u001b[0m\n\u001b[0;32m     22\u001b[0m         \u001b[0mTheta2\u001b[0m \u001b[1;33m=\u001b[0m \u001b[0mTheta2\u001b[0m \u001b[1;33m-\u001b[0m \u001b[1;33m(\u001b[0m\u001b[0malpha\u001b[0m \u001b[1;33m*\u001b[0m \u001b[0mgrad2_reg\u001b[0m\u001b[1;33m)\u001b[0m\u001b[1;33m\u001b[0m\u001b[1;33m\u001b[0m\u001b[0m\n",
      "\u001b[1;32m<ipython-input-110-2d6c28008f73>\u001b[0m in \u001b[0;36mnnCostFunction\u001b[1;34m(nn_params, input_layer_size, hidden_layer_size, num_labels, X, y, Lambda)\u001b[0m\n\u001b[0;32m     40\u001b[0m         \u001b[0ma2i\u001b[0m \u001b[1;33m=\u001b[0m\u001b[0ma2\u001b[0m\u001b[1;33m[\u001b[0m\u001b[0mi\u001b[0m\u001b[1;33m,\u001b[0m\u001b[1;33m:\u001b[0m\u001b[1;33m]\u001b[0m \u001b[1;31m# 1 X 10\u001b[0m\u001b[1;33m\u001b[0m\u001b[1;33m\u001b[0m\u001b[0m\n\u001b[0;32m     41\u001b[0m         \u001b[0md2\u001b[0m \u001b[1;33m=\u001b[0m \u001b[0ma2i\u001b[0m \u001b[1;33m-\u001b[0m \u001b[0my10\u001b[0m\u001b[1;33m[\u001b[0m\u001b[0mi\u001b[0m\u001b[1;33m,\u001b[0m\u001b[1;33m:\u001b[0m\u001b[1;33m]\u001b[0m\u001b[1;33m\u001b[0m\u001b[1;33m\u001b[0m\u001b[0m\n\u001b[1;32m---> 42\u001b[1;33m         \u001b[0md1\u001b[0m \u001b[1;33m=\u001b[0m \u001b[0mTheta2\u001b[0m\u001b[1;33m.\u001b[0m\u001b[0mT\u001b[0m \u001b[1;33m@\u001b[0m \u001b[0md2\u001b[0m\u001b[1;33m.\u001b[0m\u001b[0mT\u001b[0m \u001b[1;33m*\u001b[0m \u001b[0mleaky_ReLU_Gradient\u001b[0m\u001b[1;33m(\u001b[0m\u001b[0mnp\u001b[0m\u001b[1;33m.\u001b[0m\u001b[0mhstack\u001b[0m\u001b[1;33m(\u001b[0m\u001b[1;33m(\u001b[0m\u001b[1;36m1\u001b[0m\u001b[1;33m,\u001b[0m\u001b[0mxi\u001b[0m \u001b[1;33m@\u001b[0m \u001b[0mTheta1\u001b[0m\u001b[1;33m.\u001b[0m\u001b[0mT\u001b[0m\u001b[1;33m)\u001b[0m\u001b[1;33m)\u001b[0m\u001b[1;33m,\u001b[0m\u001b[1;36m0.1\u001b[0m\u001b[1;33m)\u001b[0m\u001b[1;33m\u001b[0m\u001b[1;33m\u001b[0m\u001b[0m\n\u001b[0m\u001b[0;32m     43\u001b[0m         \u001b[1;31m#d1 = Theta2.T @ d2.T * sigmoid_Gradient(np.hstack((1,xi @ Theta1.T)))\u001b[0m\u001b[1;33m\u001b[0m\u001b[1;33m\u001b[0m\u001b[1;33m\u001b[0m\u001b[0m\n\u001b[0;32m     44\u001b[0m         \u001b[0mgrad1\u001b[0m\u001b[1;33m=\u001b[0m \u001b[0mgrad1\u001b[0m \u001b[1;33m+\u001b[0m \u001b[0md1\u001b[0m\u001b[1;33m[\u001b[0m\u001b[1;36m1\u001b[0m\u001b[1;33m:\u001b[0m\u001b[1;33m]\u001b[0m\u001b[1;33m[\u001b[0m\u001b[1;33m:\u001b[0m\u001b[1;33m,\u001b[0m\u001b[0mnp\u001b[0m\u001b[1;33m.\u001b[0m\u001b[0mnewaxis\u001b[0m\u001b[1;33m]\u001b[0m \u001b[1;33m@\u001b[0m \u001b[0mxi\u001b[0m\u001b[1;33m[\u001b[0m\u001b[1;33m:\u001b[0m\u001b[1;33m,\u001b[0m\u001b[0mnp\u001b[0m\u001b[1;33m.\u001b[0m\u001b[0mnewaxis\u001b[0m\u001b[1;33m]\u001b[0m\u001b[1;33m.\u001b[0m\u001b[0mT\u001b[0m\u001b[1;33m\u001b[0m\u001b[1;33m\u001b[0m\u001b[0m\n",
      "\u001b[1;32m<__array_function__ internals>\u001b[0m in \u001b[0;36mhstack\u001b[1;34m(*args, **kwargs)\u001b[0m\n",
      "\u001b[1;32m~\\anaconda3\\lib\\site-packages\\numpy\\core\\shape_base.py\u001b[0m in \u001b[0;36mhstack\u001b[1;34m(tup)\u001b[0m\n\u001b[0;32m    342\u001b[0m     \u001b[1;31m# As a special case, dimension 0 of 1-dimensional arrays is \"horizontal\"\u001b[0m\u001b[1;33m\u001b[0m\u001b[1;33m\u001b[0m\u001b[1;33m\u001b[0m\u001b[0m\n\u001b[0;32m    343\u001b[0m     \u001b[1;32mif\u001b[0m \u001b[0marrs\u001b[0m \u001b[1;32mand\u001b[0m \u001b[0marrs\u001b[0m\u001b[1;33m[\u001b[0m\u001b[1;36m0\u001b[0m\u001b[1;33m]\u001b[0m\u001b[1;33m.\u001b[0m\u001b[0mndim\u001b[0m \u001b[1;33m==\u001b[0m \u001b[1;36m1\u001b[0m\u001b[1;33m:\u001b[0m\u001b[1;33m\u001b[0m\u001b[1;33m\u001b[0m\u001b[0m\n\u001b[1;32m--> 344\u001b[1;33m         \u001b[1;32mreturn\u001b[0m \u001b[0m_nx\u001b[0m\u001b[1;33m.\u001b[0m\u001b[0mconcatenate\u001b[0m\u001b[1;33m(\u001b[0m\u001b[0marrs\u001b[0m\u001b[1;33m,\u001b[0m \u001b[1;36m0\u001b[0m\u001b[1;33m)\u001b[0m\u001b[1;33m\u001b[0m\u001b[1;33m\u001b[0m\u001b[0m\n\u001b[0m\u001b[0;32m    345\u001b[0m     \u001b[1;32melse\u001b[0m\u001b[1;33m:\u001b[0m\u001b[1;33m\u001b[0m\u001b[1;33m\u001b[0m\u001b[0m\n\u001b[0;32m    346\u001b[0m         \u001b[1;32mreturn\u001b[0m \u001b[0m_nx\u001b[0m\u001b[1;33m.\u001b[0m\u001b[0mconcatenate\u001b[0m\u001b[1;33m(\u001b[0m\u001b[0marrs\u001b[0m\u001b[1;33m,\u001b[0m \u001b[1;36m1\u001b[0m\u001b[1;33m)\u001b[0m\u001b[1;33m\u001b[0m\u001b[1;33m\u001b[0m\u001b[0m\n",
      "\u001b[1;32m<__array_function__ internals>\u001b[0m in \u001b[0;36mconcatenate\u001b[1;34m(*args, **kwargs)\u001b[0m\n",
      "\u001b[1;31mKeyboardInterrupt\u001b[0m: "
     ]
    },
    {
     "data": {
      "image/png": "[encoded data removed]",
      "text/plain": [
       "<Figure size 432x288 with 1 Axes>"
      ]
     },
     "metadata": {
      "needs_background": "light"
     },
     "output_type": "display_data"
    }
   ],
   "source": [
    "input_layer_size  = 6    # number of features of input layer\n",
    "hidden_layer_size = 3    # number of features of hidden layer\n",
    "num_labels = 1           # number of features of output layer\n",
    "alpha=0.2                # learning rate\n",
    "num_iters=1200            # number of iterations\n",
    "\n",
    "initial_Theta1 = randInitializeWeights(input_layer_size, hidden_layer_size)\n",
    "initial_Theta2 = randInitializeWeights(hidden_layer_size, num_labels)\n",
    "initial_nn_params = np.append(initial_Theta1.flatten(),initial_Theta2.flatten())\n",
    "\n",
    "#Implementing cross validation\n",
    "\n",
    "k = 5\n",
    "counter = 0\n",
    "kf = KFold(n_splits=k, random_state=None)\n",
    "#Lambdas = np.array([0,0.01,0.1,1])\n",
    "Lambdas = np.array([0, 0.01, 0.1, 1])\n",
    "acc_score = []\n",
    "err_temp = 0\n",
    "err_total = np.zeros((len(Lambdas),1))\n",
    " \n",
    "for train_index , test_index in kf.split(X):\n",
    "    counter += 1\n",
    "    \n",
    "    error_vec = []\n",
    "    \n",
    "    kX_train , kX_test = X[train_index,:],X[test_index,:]\n",
    "    ky_train , ky_test = y[train_index] , y[test_index]\n",
    "    \n",
    "    for i in range (len(Lambdas)):\n",
    "    \n",
    "        nnTheta, nnJ_history, err_temp = gradientDescentnn(kX_train,ky_train,initial_nn_params,alpha,num_iters,Lambdas[i],input_layer_size, hidden_layer_size, num_labels,counter)\n",
    "        err_total[i] = err_total[i] + err_temp\n",
    "        Theta1 = nnTheta[:((input_layer_size+1) * hidden_layer_size)].reshape(hidden_layer_size,input_layer_size+1)\n",
    "        Theta2 = nnTheta[((input_layer_size +1)* hidden_layer_size ):].reshape(num_labels,hidden_layer_size+1)\n",
    "        \n",
    "    '''err_total[0] = err_total[0] + error_vec[0]\n",
    "    err_total[1] = err_total[1] + error_vec[1]\n",
    "    err_total[2] = err_total[2] + error_vec[2]\n",
    "    err_total[3] = err_total[3] + error_vec[3]'''\n",
    "    \n",
    "    #pred3 = predict(Theta1, Theta2, kX_test)\n",
    "    #new_pred = np.zeros((len(pred3),1))\n",
    "\n",
    "    '''for i in range(len(pred3)):\n",
    "        if(pred3[i,0])>0.5:\n",
    "            new_pred[i,0]=1    '''\n",
    "     \n",
    "    #acc = accuracy_score(new_pred , ky_test)\n",
    "    #acc_score.append(acc)\n",
    "\n",
    "err_total = err_total/4\n",
    "lambda_index = np.argmin(err_total)\n",
    "#avg_acc_score = sum(acc_score)/k\n",
    " \n",
    "#print('Accuracy of each fold - {}'.format(acc_score))\n",
    "#print('Average accuracy : {}'.format(avg_acc_score))\n",
    "print(err_total)\n",
    "print(\"The best lambda is: \",Lambdas[lambda_index])\n"
   ]
  },
  {
   "cell_type": "markdown",
   "id": "b69e3870",
   "metadata": {},
   "source": [
    "### Now, training the model with the original training set, using the best hyperparameter $ \\lambda $\n"
   ]
  },
  {
   "cell_type": "code",
   "execution_count": 131,
   "id": "ad17e329",
   "metadata": {},
   "outputs": [
    {
     "name": "stdout",
     "output_type": "stream",
     "text": [
      "99  % completed\n"
     ]
    },
    {
     "data": {
      "image/png": "[encoded data removed]",
      "text/plain": [
       "<Figure size 432x288 with 1 Axes>"
      ]
     },
     "metadata": {},
     "output_type": "display_data"
    },
    {
     "data": {
      "image/png": "[encoded data removed]",
      "text/plain": [
       "<Figure size 432x288 with 1 Axes>"
      ]
     },
     "metadata": {
      "needs_background": "light"
     },
     "output_type": "display_data"
    }
   ],
   "source": [
    "best_lambda = 0\n",
    "\n",
    "initial_Theta1 = randInitializeWeights(input_layer_size, hidden_layer_size)\n",
    "initial_Theta2 = randInitializeWeights(hidden_layer_size, num_labels)\n",
    "initial_nn_params = np.append(initial_Theta1.flatten(),initial_Theta2.flatten())\n",
    "\n",
    "nnTheta, nnJ_history, e_theta = gradientDescentnn(X,y,initial_nn_params,alpha,num_iters,best_lambda,input_layer_size, hidden_layer_size, num_labels,0)\n",
    "Theta1 = nnTheta[:((input_layer_size+1) * hidden_layer_size)].reshape(hidden_layer_size,input_layer_size+1)\n",
    "Theta2 = nnTheta[((input_layer_size +1)* hidden_layer_size ):].reshape(num_labels,hidden_layer_size+1)\n",
    "\n"
   ]
  },
  {
   "cell_type": "code",
   "execution_count": 134,
   "id": "1fbd84a7",
   "metadata": {},
   "outputs": [
    {
     "name": "stdout",
     "output_type": "stream",
     "text": [
      "Best threshold is  0.45000000000000023 with an accuracy of 89.76666666666667\n"
     ]
    }
   ],
   "source": [
    "tmp_pred = predict(Theta1, Theta2, X)\n",
    "\n",
    "train_pred = np.zeros((len(tmp_pred),1))\n",
    "\n",
    "final_train_pred = np.zeros((len(tmp_pred),1))\n",
    "\n",
    "limiar = 0\n",
    "best_limiar = 0\n",
    "temp = 0\n",
    "\n",
    "max_accuracy = 0\n",
    "\n",
    "while (limiar < 1):    \n",
    "    train_pred = np.zeros((len(tmp_pred),1))\n",
    "    for j in range(len(tmp_pred)):\n",
    "        if(tmp_pred[j,0])>limiar:\n",
    "            train_pred[j,0]=1\n",
    "    \n",
    "    \n",
    "    temp = 100*(sum(train_pred==y)[0])/len(y)\n",
    "    \n",
    "    if (temp > max_accuracy):\n",
    "        max_accuracy = temp    \n",
    "        best_limiar = limiar\n",
    "        final_train_pred = train_pred\n",
    "    limiar += 0.01\n",
    "    \n",
    "print(\"Best threshold is \" , best_limiar, \"with an accuracy of\", max_accuracy)"
   ]
  },
  {
   "cell_type": "markdown",
   "id": "94b496a3",
   "metadata": {},
   "source": [
    "### Confusion matrix for the training set"
   ]
  },
  {
   "cell_type": "code",
   "execution_count": 135,
   "id": "03b7ddad",
   "metadata": {},
   "outputs": [
    {
     "name": "stdout",
     "output_type": "stream",
     "text": [
      "Correct steps: 2673\n",
      "Correct non-steps: 2713\n",
      "Fake steps: 287\n",
      "Undetected steps: 327\n",
      "Total real steps: 3000\n"
     ]
    }
   ],
   "source": [
    "k=0\n",
    "undetected_steps = 0\n",
    "correct_steps = 0\n",
    "correct_nonsteps = 0\n",
    "fake_steps = 0\n",
    "total_steps = int(sum(y))\n",
    "\n",
    "while (k < len(y)):\n",
    "    if (y[k] == 1):\n",
    "        if(final_train_pred[k] == 1):\n",
    "            correct_steps += 1\n",
    "        else:\n",
    "            undetected_steps +=1\n",
    "        \n",
    "    else:\n",
    "        if(final_train_pred[k] == 1):\n",
    "            fake_steps += 1\n",
    "        else:\n",
    "            correct_nonsteps += 1\n",
    "    k += 1\n",
    "    \n",
    "print(\"Correct steps:\", int(correct_steps))\n",
    "print(\"Correct non-steps:\", correct_nonsteps)\n",
    "print(\"Fake steps:\", int(fake_steps)) # should consider 1/3 second turn-off after step detection\n",
    "print(\"Undetected steps:\", int(np.ceil(undetected_steps)))\n",
    "print(\"Total real steps:\", total_steps)"
   ]
  },
  {
   "cell_type": "markdown",
   "id": "ac93dc02",
   "metadata": {},
   "source": [
    "## Loading and restructuring smartphone data: testing set"
   ]
  },
  {
   "cell_type": "code",
   "execution_count": 136,
   "id": "7f3722e3",
   "metadata": {},
   "outputs": [
    {
     "name": "stdout",
     "output_type": "stream",
     "text": [
      "Step window size: 6\n",
      "'Phase 2: Importing and restructuring testing data' successfuly completed.\n",
      "X shape = (1200, 6)\n",
      "Y shape = (1200, 1)\n"
     ]
    }
   ],
   "source": [
    "# file imports\n",
    "testing_raw_acc = pd.read_csv(\"Testing\\TestingAccZAxis.txt\",header=None)\n",
    "testing_raw_dif = pd.read_csv(\"Testing\\TestingDiffs.txt\",header=None)\n",
    "testing_raw_stp = pd.read_csv(\"Testing\\TestingStepsOrNot.txt\",header=None)\n",
    "\n",
    "# initial data structures\n",
    "aux_xtest_acc = testing_raw_acc.values\n",
    "aux_xtest_dif = testing_raw_dif.values\n",
    "aux_ytest = testing_raw_stp.values\n",
    "\n",
    "# size validation of imported data\n",
    "n_xtest_acc = len(aux_xtest_acc)\n",
    "n_xtest_dif = len(aux_xtest_dif)\n",
    "n_ytest = len(aux_ytest)\n",
    "\n",
    "if ((n_xtest_acc != n_ytest) or (n_xtest_dif != n_ytest)):\n",
    "    print(\"IMPORTED ARRAYS HAVE DIFFERENT LENGTHS!\")\n",
    "\n",
    "### restructuring data into features and corresponding labels ###\n",
    "\n",
    "window_size = 3 # window size must be positive and odd\n",
    "if ((window_size % 2 == 0) or (window_size <= 0)):\n",
    "    print(\"INVALID WINDOW SIZE! AUTOMATICALLY DECREMENTING 1 FROM THE SET VALUE FOR VALID EXECUTION\")\n",
    "    window_size -= 1\n",
    "    \n",
    "p = int((window_size-1)/2) # defines both window center and number of past/future samples to be evaluated\n",
    "\n",
    "l = p # l is the control variable for the while loop below\n",
    "\n",
    "# feature array initialization\n",
    "matrix_m = n_xtest_acc - 2*p;\n",
    "\n",
    "Xtest_acc = np.zeros((matrix_m,window_size))\n",
    "Xtest_dif = np.zeros((matrix_m,window_size))\n",
    "ytest = np.zeros((matrix_m,1))\n",
    "\n",
    "aux_xtest_acc = aux_xtest_acc.reshape(1,len(aux_xtest_acc))\n",
    "aux_xtest_dif = aux_xtest_dif.reshape(1,len(aux_xtest_dif))\n",
    "aux_ytest = aux_ytest.reshape(len(aux_ytest),1)\n",
    "\n",
    "# filling the feature array\n",
    "while(l <= n_xtest_acc - p - 1):\n",
    "    Xtest_acc[l-p][:] = aux_xtest_acc[0,(l-p):(l+p+1)]\n",
    "    Xtest_dif[l-p][:] = aux_xtest_dif[0,(l-p):(l+p+1)]\n",
    "    if(aux_ytest[l,0] == 1):\n",
    "        ytest[l-p,0] = int(1)\n",
    "    else:\n",
    "        ytest[l-p,0] = int(0)\n",
    "    l += 1\n",
    "\n",
    "Xtest = np.concatenate((Xtest_acc, Xtest_dif), axis=1)\n",
    "\n",
    "# update window size after concatenate\n",
    "window_size = Xtest.shape[1]\n",
    "print(\"Step window size:\", window_size)\n",
    "\n",
    "### Balancing data: discarding some 'zero' examples ###\n",
    "ones_examples = int(sum(ytest))\n",
    "total_zeros = len(ytest) - ones_examples\n",
    "\n",
    "k = 0\n",
    "k2 = 0\n",
    "arr_zer_index = np.zeros((total_zeros,1))\n",
    "\n",
    "while(k < len(ytest)):\n",
    "    if ytest[k] == 0:\n",
    "        arr_zer_index[k2] = k\n",
    "        k2 += 1\n",
    "    k += 1\n",
    "    \n",
    "indexes = rd.sample(range(len(arr_zer_index)), ones_examples) # return random array indexes\n",
    "\n",
    "# return original ones separately\n",
    "aux_ones_X = np.zeros((ones_examples,window_size))\n",
    "aux_ones_y = np.zeros((ones_examples,1))\n",
    "\n",
    "k = 0\n",
    "k2 = 0\n",
    "\n",
    "while(k < len(ytest)):\n",
    "    if ytest[k] == 1:\n",
    "        aux_ones_X[k2,:] = Xtest[k]\n",
    "        aux_ones_y[k2] = ytest[k]\n",
    "        k2 += 1\n",
    "    k += 1\n",
    "    \n",
    "# return original zeros separately\n",
    "aux_zrs_X = np.zeros((total_zeros,window_size))\n",
    "aux_zrs_y = np.zeros((total_zeros,1))\n",
    "\n",
    "k = 0\n",
    "k2 = 0\n",
    "\n",
    "while(k < len(ytest)):\n",
    "    if ytest[k] == 0:\n",
    "        aux_zrs_X[k2,:] = Xtest[k]\n",
    "        aux_zrs_y[k2] = ytest[k]\n",
    "        k2 += 1\n",
    "    k += 1\n",
    "    \n",
    "# Get corresponding zeros from indexes\n",
    "\n",
    "k = 0\n",
    "new_zeros_X = np.zeros((ones_examples,window_size))\n",
    "new_zeros_y = np.zeros((ones_examples,1))\n",
    "\n",
    "while(k < len(indexes)):\n",
    "    new_zeros_X[k,:] = aux_zrs_X[indexes[k]]\n",
    "    new_zeros_y[k] = aux_zrs_y[indexes[k]]\n",
    "    k += 1\n",
    "\n",
    "Xtest = np.concatenate((aux_ones_X, new_zeros_X), axis=0)\n",
    "ytest = np.concatenate((aux_ones_y, new_zeros_y), axis=0)\n",
    "\n",
    "with open('TESTING_matrixy.txt', 'w') as testfile:\n",
    "    for row in ytest:\n",
    "        testfile.write(' '.join([str(int(a)) for a in row]) + '\\n')\n",
    "\n",
    "\n",
    "with open('TESTING_matrixX.txt', 'w') as testfile:\n",
    "    for row in Xtest:\n",
    "        testfile.write(' '.join([str(a) for a in row]) + '\\n')\n",
    "        \n",
    "\n",
    "if (len(Xtest) != len(ytest)) :\n",
    "    print(\"SOMETHING WENT WRONG DURING DATA RESTRUCTURING!\")\n",
    "else:\n",
    "    print(\"'Phase 2: Importing and restructuring testing data' successfuly completed.\")\n",
    "    \n",
    "print(\"X shape =\",Xtest.shape)\n",
    "print(\"Y shape =\",ytest.shape)\n",
    "\n",
    "### end of data restructuring ###"
   ]
  },
  {
   "cell_type": "markdown",
   "id": "17a6432b",
   "metadata": {},
   "source": [
    "### Testing the optimized model with the testing set"
   ]
  },
  {
   "cell_type": "code",
   "execution_count": 137,
   "id": "ef87fa1c",
   "metadata": {},
   "outputs": [
    {
     "name": "stdout",
     "output_type": "stream",
     "text": [
      "Best threshold is  0.7200000000000004 with an accuracy of 88.41666666666667\n"
     ]
    }
   ],
   "source": [
    "tmp_pred = predict(Theta1, Theta2, Xtest)\n",
    "\n",
    "test_pred = np.zeros((len(tmp_pred),1))\n",
    "\n",
    "final_test_pred = np.zeros((len(tmp_pred),1))\n",
    "\n",
    "limiar = 0\n",
    "best_limiar = 0\n",
    "temp = 0\n",
    "\n",
    "max_accuracy = 0\n",
    "\n",
    "while (limiar < 1):    \n",
    "    test_pred = np.zeros((len(tmp_pred),1))\n",
    "    for j in range(len(tmp_pred)):\n",
    "        if(tmp_pred[j,0])>limiar:\n",
    "            test_pred[j,0]=1\n",
    "    \n",
    "    \n",
    "    temp = 100*(sum(test_pred==ytest)[0])/len(ytest)\n",
    "    \n",
    "    if (temp > max_accuracy):\n",
    "        max_accuracy = temp    \n",
    "        best_limiar = limiar\n",
    "        final_test_pred = test_pred\n",
    "    limiar += 0.01\n",
    "    \n",
    "print(\"Best threshold is \" , best_limiar, \"with an accuracy of\", max_accuracy)"
   ]
  },
  {
   "cell_type": "markdown",
   "id": "a40a039e",
   "metadata": {},
   "source": [
    "### Confusion matrix for the testing set"
   ]
  },
  {
   "cell_type": "code",
   "execution_count": 138,
   "id": "b7aecc31",
   "metadata": {},
   "outputs": [
    {
     "name": "stdout",
     "output_type": "stream",
     "text": [
      "Correct steps: 513\n",
      "Correct non-steps: 548\n",
      "Fake steps: 52\n",
      "Undetected steps: 87\n",
      "Total real steps: 600\n"
     ]
    }
   ],
   "source": [
    "k=0\n",
    "undetected_steps = 0\n",
    "correct_steps = 0\n",
    "correct_nonsteps = 0\n",
    "fake_steps = 0\n",
    "total_steps = int(sum(ytest))\n",
    "\n",
    "while (k < len(ytest)):\n",
    "    if (ytest[k] == 1):\n",
    "        if(final_test_pred[k] == 1):\n",
    "            correct_steps += 1\n",
    "        else:\n",
    "            undetected_steps +=1        \n",
    "    else:\n",
    "        if(final_test_pred[k] == 1):\n",
    "            fake_steps += 1\n",
    "        else:\n",
    "            correct_nonsteps += 1\n",
    "    k += 1\n",
    "    \n",
    "print(\"Correct steps:\", int(correct_steps))\n",
    "print(\"Correct non-steps:\", correct_nonsteps)\n",
    "print(\"Fake steps:\", int(fake_steps)) # should consider 1/3 second turn-off after step detection\n",
    "print(\"Undetected steps:\", int(np.ceil(undetected_steps)))\n",
    "print(\"Total real steps:\", total_steps)"
   ]
  },
  {
   "cell_type": "code",
   "execution_count": null,
   "id": "559a8545",
   "metadata": {},
   "outputs": [],
   "source": []
  },
  {
   "cell_type": "code",
   "execution_count": null,
   "id": "2faa532a",
   "metadata": {},
   "outputs": [],
   "source": []
  },
  {
   "cell_type": "code",
   "execution_count": null,
   "id": "773a6493",
   "metadata": {},
   "outputs": [],
   "source": []
  },
  {
   "cell_type": "code",
   "execution_count": null,
   "id": "39c86304",
   "metadata": {},
   "outputs": [],
   "source": []
  }
 ],
 "metadata": {
  "kernelspec": {
   "display_name": "Python 3",
   "language": "python",
   "name": "python3"
  },
  "language_info": {
   "codemirror_mode": {
    "name": "ipython",
    "version": 3
   },
   "file_extension": ".py",
   "mimetype": "text/x-python",
   "name": "python",
   "nbconvert_exporter": "python",
   "pygments_lexer": "ipython3",
   "version": "3.8.8"
  }
 },
 "nbformat": 4,
 "nbformat_minor": 5
}
